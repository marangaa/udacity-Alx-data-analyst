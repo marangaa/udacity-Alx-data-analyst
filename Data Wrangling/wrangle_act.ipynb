{
 "cells": [
  {
   "cell_type": "markdown",
   "source": [
    "# Wrangle WeRateDogs Data\n",
    "\n",
    "This document contains the code that was used to wrangle the data.\n"
   ],
   "metadata": {
    "collapsed": false,
    "pycharm": {
     "name": "#%% md\n"
    }
   }
  },
  {
   "cell_type": "markdown",
   "source": [
    "## Gather\n",
    "\n",
    "Here I begin the process of wrangling by gathering the required data."
   ],
   "metadata": {
    "collapsed": false,
    "pycharm": {
     "name": "#%% md\n"
    }
   }
  },
  {
   "cell_type": "code",
   "execution_count": 1,
   "outputs": [],
   "source": [
    "# Load necessary modules\n",
    "import tweepy\n",
    "import pandas as pd\n",
    "import numpy as np\n",
    "import requests\n",
    "import json\n",
    "import collections\n",
    "import functools\n",
    "from timeit import default_timer as timer\n",
    "import matplotlib.pyplot as plt\n",
    "import seaborn as sns\n",
    "import itertools\n",
    "%matplotlib inline"
   ],
   "metadata": {
    "collapsed": false,
    "pycharm": {
     "name": "#%%\n"
    }
   }
  },
  {
   "cell_type": "code",
   "execution_count": 2,
   "outputs": [],
   "source": [
    "# Start by loading the twitter-archive-enhanced.csv file into a dataframe\n",
    "tweet_data_archived = pd.read_csv('twitter-archive-enhanced.csv')"
   ],
   "metadata": {
    "collapsed": false,
    "pycharm": {
     "name": "#%%\n"
    }
   }
  },
  {
   "cell_type": "code",
   "execution_count": 3,
   "outputs": [],
   "source": [
    "# 1. Import the requests library\n",
    "import requests\n",
    "URL = \"https://d17h27t6h515a5.cloudfront.net/topher/2017/August/599fd2ad_image-predictions/image-predictions.tsv\"\n",
    "\n",
    "# 2. download the data behind the URL\n",
    "response = requests.get(URL)\n",
    "\n",
    "# 3. Open the response into a new file called image-predictions.tsv\n",
    "open(\"image-predictions.tsv\", \"wb\").write(response.content)\n",
    "\n",
    "# Load image prediction data into a dataframe\n",
    "images = pd.read_csv('image-predictions.tsv', delim_whitespace=True)"
   ],
   "metadata": {
    "collapsed": false,
    "pycharm": {
     "name": "#%%\n"
    }
   }
  },
  {
   "cell_type": "code",
   "execution_count": 4,
   "outputs": [],
   "source": [
    "# additional data from the Twitter API\n",
    "\n",
    "# Create tweepy api object\n",
    "auth = tweepy.OAuth2BearerHandler(\"AAAAAAAAAAAAAAAAAAAAABhFeAEAAAAAAv8y4P927ODwir%2FesfA3xFgc73M%3DCrVAi9t0isz1mq4B4Z1cwnXMsHTcVt4xLdN2HlwYlX5cNDtZi3\")\n",
    "api = tweepy.API(auth, wait_on_rate_limit=True)\n"
   ],
   "metadata": {
    "collapsed": false,
    "pycharm": {
     "name": "#%%\n"
    }
   }
  },
  {
   "cell_type": "code",
   "execution_count": 5,
   "outputs": [],
   "source": [
    "# Query Twitter's API for JSON data for each tweet ID in the Twitter archive\n",
    "# count = 0\n",
    "# fails_dict = {}\n",
    "# start = timer()\n",
    "# # Save each tweet's returned JSON as a new line in a .txt file\n",
    "# with open('tweet_json.txt', 'w') as outfile:\n",
    "#     # This loop will likely take 20-30 minutes to run because of Twitter's rate limit\n",
    "#     for tweet_id in tweet_ids:\n",
    "#         count += 1\n",
    "#         print(str(count) + \": \" + str(tweet_id))\n",
    "#         try:\n",
    "#             tweet = api.get_status(tweet_id, tweet_mode='extended')\n",
    "#             print(\"Success\")\n",
    "#             json.dump(tweet._json, outfile)\n",
    "#             outfile.write('\\n')\n",
    "#         except tweepy.errors.TweepyException as e:\n",
    "#             print(\"Fail\")\n",
    "#             fails_dict[tweet_id] = e\n",
    "#             pass\n",
    "# end = timer()\n",
    "# print(end - start)\n",
    "# print(fails_dict)"
   ],
   "metadata": {
    "collapsed": false,
    "pycharm": {
     "name": "#%%\n"
    }
   }
  },
  {
   "cell_type": "code",
   "execution_count": 6,
   "outputs": [],
   "source": [
    "# creating a dataframe with relevant fields\n",
    "df = []\n",
    "with open('tweet_json.txt') as f:\n",
    "    for line in f:\n",
    "        tweet = (json.loads(line))\n",
    "        tweet_id = tweet['id']\n",
    "        retweet_count = tweet['retweet_count']\n",
    "        favorite_count = tweet['favorite_count']\n",
    "        create_date = tweet['created_at']\n",
    "        df.append({'retweet_count' : retweet_count,\n",
    "                  'favorite_count' : favorite_count,\n",
    "                  'create_date' : create_date,\n",
    "                  'tweet_id' : tweet_id})\n",
    "\n",
    "tweet_data_extra = pd.DataFrame(df, columns = ['tweet_id', 'retweet_count', 'favorite_count', 'create_date'])"
   ],
   "metadata": {
    "collapsed": false,
    "pycharm": {
     "name": "#%%\n"
    }
   }
  },
  {
   "cell_type": "markdown",
   "source": [
    "The data has now been loaded into the following dataframes:\n",
    " - `tweet_data_archived`: contains data about the archived WeRateDogs tweets.\n",
    " - `tweet_data_extra`: contains additional data about the WeRateDogs tweets gathered from Twitter.\n",
    " - `images`: contains the prediction results of a machine learning algorithm trained on a sample of the images from the tweets in the WeRateDogs archive."
   ],
   "metadata": {
    "collapsed": false,
    "pycharm": {
     "name": "#%% md\n"
    }
   }
  },
  {
   "cell_type": "markdown",
   "source": [
    "## Assess\n",
    "\n",
    "visual and programmatic assessment on the data\n",
    "\n",
    "### Dataframe contents for visual assessment"
   ],
   "metadata": {
    "collapsed": false,
    "pycharm": {
     "name": "#%% md\n"
    }
   }
  },
  {
   "cell_type": "code",
   "execution_count": 7,
   "outputs": [
    {
     "data": {
      "text/plain": "                tweet_id  in_reply_to_status_id  in_reply_to_user_id  \\\n0     892420643555336193                    NaN                  NaN   \n1     892177421306343426                    NaN                  NaN   \n2     891815181378084864                    NaN                  NaN   \n3     891689557279858688                    NaN                  NaN   \n4     891327558926688256                    NaN                  NaN   \n...                  ...                    ...                  ...   \n2351  666049248165822465                    NaN                  NaN   \n2352  666044226329800704                    NaN                  NaN   \n2353  666033412701032449                    NaN                  NaN   \n2354  666029285002620928                    NaN                  NaN   \n2355  666020888022790149                    NaN                  NaN   \n\n                      timestamp  \\\n0     2017-08-01 16:23:56 +0000   \n1     2017-08-01 00:17:27 +0000   \n2     2017-07-31 00:18:03 +0000   \n3     2017-07-30 15:58:51 +0000   \n4     2017-07-29 16:00:24 +0000   \n...                         ...   \n2351  2015-11-16 00:24:50 +0000   \n2352  2015-11-16 00:04:52 +0000   \n2353  2015-11-15 23:21:54 +0000   \n2354  2015-11-15 23:05:30 +0000   \n2355  2015-11-15 22:32:08 +0000   \n\n                                                 source  \\\n0     <a href=\"http://twitter.com/download/iphone\" r...   \n1     <a href=\"http://twitter.com/download/iphone\" r...   \n2     <a href=\"http://twitter.com/download/iphone\" r...   \n3     <a href=\"http://twitter.com/download/iphone\" r...   \n4     <a href=\"http://twitter.com/download/iphone\" r...   \n...                                                 ...   \n2351  <a href=\"http://twitter.com/download/iphone\" r...   \n2352  <a href=\"http://twitter.com/download/iphone\" r...   \n2353  <a href=\"http://twitter.com/download/iphone\" r...   \n2354  <a href=\"http://twitter.com/download/iphone\" r...   \n2355  <a href=\"http://twitter.com/download/iphone\" r...   \n\n                                                   text  retweeted_status_id  \\\n0     This is Phineas. He's a mystical boy. Only eve...                  NaN   \n1     This is Tilly. She's just checking pup on you....                  NaN   \n2     This is Archie. He is a rare Norwegian Pouncin...                  NaN   \n3     This is Darla. She commenced a snooze mid meal...                  NaN   \n4     This is Franklin. He would like you to stop ca...                  NaN   \n...                                                 ...                  ...   \n2351  Here we have a 1949 1st generation vulpix. Enj...                  NaN   \n2352  This is a purebred Piers Morgan. Loves to Netf...                  NaN   \n2353  Here is a very happy pup. Big fan of well-main...                  NaN   \n2354  This is a western brown Mitsubishi terrier. Up...                  NaN   \n2355  Here we have a Japanese Irish Setter. Lost eye...                  NaN   \n\n      retweeted_status_user_id retweeted_status_timestamp  \\\n0                          NaN                        NaN   \n1                          NaN                        NaN   \n2                          NaN                        NaN   \n3                          NaN                        NaN   \n4                          NaN                        NaN   \n...                        ...                        ...   \n2351                       NaN                        NaN   \n2352                       NaN                        NaN   \n2353                       NaN                        NaN   \n2354                       NaN                        NaN   \n2355                       NaN                        NaN   \n\n                                          expanded_urls  rating_numerator  \\\n0     https://twitter.com/dog_rates/status/892420643...                13   \n1     https://twitter.com/dog_rates/status/892177421...                13   \n2     https://twitter.com/dog_rates/status/891815181...                12   \n3     https://twitter.com/dog_rates/status/891689557...                13   \n4     https://twitter.com/dog_rates/status/891327558...                12   \n...                                                 ...               ...   \n2351  https://twitter.com/dog_rates/status/666049248...                 5   \n2352  https://twitter.com/dog_rates/status/666044226...                 6   \n2353  https://twitter.com/dog_rates/status/666033412...                 9   \n2354  https://twitter.com/dog_rates/status/666029285...                 7   \n2355  https://twitter.com/dog_rates/status/666020888...                 8   \n\n      rating_denominator      name doggo floofer pupper puppo  \n0                     10   Phineas  None    None   None  None  \n1                     10     Tilly  None    None   None  None  \n2                     10    Archie  None    None   None  None  \n3                     10     Darla  None    None   None  None  \n4                     10  Franklin  None    None   None  None  \n...                  ...       ...   ...     ...    ...   ...  \n2351                  10      None  None    None   None  None  \n2352                  10         a  None    None   None  None  \n2353                  10         a  None    None   None  None  \n2354                  10         a  None    None   None  None  \n2355                  10      None  None    None   None  None  \n\n[2356 rows x 17 columns]",
      "text/html": "<div>\n<style scoped>\n    .dataframe tbody tr th:only-of-type {\n        vertical-align: middle;\n    }\n\n    .dataframe tbody tr th {\n        vertical-align: top;\n    }\n\n    .dataframe thead th {\n        text-align: right;\n    }\n</style>\n<table border=\"1\" class=\"dataframe\">\n  <thead>\n    <tr style=\"text-align: right;\">\n      <th></th>\n      <th>tweet_id</th>\n      <th>in_reply_to_status_id</th>\n      <th>in_reply_to_user_id</th>\n      <th>timestamp</th>\n      <th>source</th>\n      <th>text</th>\n      <th>retweeted_status_id</th>\n      <th>retweeted_status_user_id</th>\n      <th>retweeted_status_timestamp</th>\n      <th>expanded_urls</th>\n      <th>rating_numerator</th>\n      <th>rating_denominator</th>\n      <th>name</th>\n      <th>doggo</th>\n      <th>floofer</th>\n      <th>pupper</th>\n      <th>puppo</th>\n    </tr>\n  </thead>\n  <tbody>\n    <tr>\n      <th>0</th>\n      <td>892420643555336193</td>\n      <td>NaN</td>\n      <td>NaN</td>\n      <td>2017-08-01 16:23:56 +0000</td>\n      <td>&lt;a href=\"http://twitter.com/download/iphone\" r...</td>\n      <td>This is Phineas. He's a mystical boy. Only eve...</td>\n      <td>NaN</td>\n      <td>NaN</td>\n      <td>NaN</td>\n      <td>https://twitter.com/dog_rates/status/892420643...</td>\n      <td>13</td>\n      <td>10</td>\n      <td>Phineas</td>\n      <td>None</td>\n      <td>None</td>\n      <td>None</td>\n      <td>None</td>\n    </tr>\n    <tr>\n      <th>1</th>\n      <td>892177421306343426</td>\n      <td>NaN</td>\n      <td>NaN</td>\n      <td>2017-08-01 00:17:27 +0000</td>\n      <td>&lt;a href=\"http://twitter.com/download/iphone\" r...</td>\n      <td>This is Tilly. She's just checking pup on you....</td>\n      <td>NaN</td>\n      <td>NaN</td>\n      <td>NaN</td>\n      <td>https://twitter.com/dog_rates/status/892177421...</td>\n      <td>13</td>\n      <td>10</td>\n      <td>Tilly</td>\n      <td>None</td>\n      <td>None</td>\n      <td>None</td>\n      <td>None</td>\n    </tr>\n    <tr>\n      <th>2</th>\n      <td>891815181378084864</td>\n      <td>NaN</td>\n      <td>NaN</td>\n      <td>2017-07-31 00:18:03 +0000</td>\n      <td>&lt;a href=\"http://twitter.com/download/iphone\" r...</td>\n      <td>This is Archie. He is a rare Norwegian Pouncin...</td>\n      <td>NaN</td>\n      <td>NaN</td>\n      <td>NaN</td>\n      <td>https://twitter.com/dog_rates/status/891815181...</td>\n      <td>12</td>\n      <td>10</td>\n      <td>Archie</td>\n      <td>None</td>\n      <td>None</td>\n      <td>None</td>\n      <td>None</td>\n    </tr>\n    <tr>\n      <th>3</th>\n      <td>891689557279858688</td>\n      <td>NaN</td>\n      <td>NaN</td>\n      <td>2017-07-30 15:58:51 +0000</td>\n      <td>&lt;a href=\"http://twitter.com/download/iphone\" r...</td>\n      <td>This is Darla. She commenced a snooze mid meal...</td>\n      <td>NaN</td>\n      <td>NaN</td>\n      <td>NaN</td>\n      <td>https://twitter.com/dog_rates/status/891689557...</td>\n      <td>13</td>\n      <td>10</td>\n      <td>Darla</td>\n      <td>None</td>\n      <td>None</td>\n      <td>None</td>\n      <td>None</td>\n    </tr>\n    <tr>\n      <th>4</th>\n      <td>891327558926688256</td>\n      <td>NaN</td>\n      <td>NaN</td>\n      <td>2017-07-29 16:00:24 +0000</td>\n      <td>&lt;a href=\"http://twitter.com/download/iphone\" r...</td>\n      <td>This is Franklin. He would like you to stop ca...</td>\n      <td>NaN</td>\n      <td>NaN</td>\n      <td>NaN</td>\n      <td>https://twitter.com/dog_rates/status/891327558...</td>\n      <td>12</td>\n      <td>10</td>\n      <td>Franklin</td>\n      <td>None</td>\n      <td>None</td>\n      <td>None</td>\n      <td>None</td>\n    </tr>\n    <tr>\n      <th>...</th>\n      <td>...</td>\n      <td>...</td>\n      <td>...</td>\n      <td>...</td>\n      <td>...</td>\n      <td>...</td>\n      <td>...</td>\n      <td>...</td>\n      <td>...</td>\n      <td>...</td>\n      <td>...</td>\n      <td>...</td>\n      <td>...</td>\n      <td>...</td>\n      <td>...</td>\n      <td>...</td>\n      <td>...</td>\n    </tr>\n    <tr>\n      <th>2351</th>\n      <td>666049248165822465</td>\n      <td>NaN</td>\n      <td>NaN</td>\n      <td>2015-11-16 00:24:50 +0000</td>\n      <td>&lt;a href=\"http://twitter.com/download/iphone\" r...</td>\n      <td>Here we have a 1949 1st generation vulpix. Enj...</td>\n      <td>NaN</td>\n      <td>NaN</td>\n      <td>NaN</td>\n      <td>https://twitter.com/dog_rates/status/666049248...</td>\n      <td>5</td>\n      <td>10</td>\n      <td>None</td>\n      <td>None</td>\n      <td>None</td>\n      <td>None</td>\n      <td>None</td>\n    </tr>\n    <tr>\n      <th>2352</th>\n      <td>666044226329800704</td>\n      <td>NaN</td>\n      <td>NaN</td>\n      <td>2015-11-16 00:04:52 +0000</td>\n      <td>&lt;a href=\"http://twitter.com/download/iphone\" r...</td>\n      <td>This is a purebred Piers Morgan. Loves to Netf...</td>\n      <td>NaN</td>\n      <td>NaN</td>\n      <td>NaN</td>\n      <td>https://twitter.com/dog_rates/status/666044226...</td>\n      <td>6</td>\n      <td>10</td>\n      <td>a</td>\n      <td>None</td>\n      <td>None</td>\n      <td>None</td>\n      <td>None</td>\n    </tr>\n    <tr>\n      <th>2353</th>\n      <td>666033412701032449</td>\n      <td>NaN</td>\n      <td>NaN</td>\n      <td>2015-11-15 23:21:54 +0000</td>\n      <td>&lt;a href=\"http://twitter.com/download/iphone\" r...</td>\n      <td>Here is a very happy pup. Big fan of well-main...</td>\n      <td>NaN</td>\n      <td>NaN</td>\n      <td>NaN</td>\n      <td>https://twitter.com/dog_rates/status/666033412...</td>\n      <td>9</td>\n      <td>10</td>\n      <td>a</td>\n      <td>None</td>\n      <td>None</td>\n      <td>None</td>\n      <td>None</td>\n    </tr>\n    <tr>\n      <th>2354</th>\n      <td>666029285002620928</td>\n      <td>NaN</td>\n      <td>NaN</td>\n      <td>2015-11-15 23:05:30 +0000</td>\n      <td>&lt;a href=\"http://twitter.com/download/iphone\" r...</td>\n      <td>This is a western brown Mitsubishi terrier. Up...</td>\n      <td>NaN</td>\n      <td>NaN</td>\n      <td>NaN</td>\n      <td>https://twitter.com/dog_rates/status/666029285...</td>\n      <td>7</td>\n      <td>10</td>\n      <td>a</td>\n      <td>None</td>\n      <td>None</td>\n      <td>None</td>\n      <td>None</td>\n    </tr>\n    <tr>\n      <th>2355</th>\n      <td>666020888022790149</td>\n      <td>NaN</td>\n      <td>NaN</td>\n      <td>2015-11-15 22:32:08 +0000</td>\n      <td>&lt;a href=\"http://twitter.com/download/iphone\" r...</td>\n      <td>Here we have a Japanese Irish Setter. Lost eye...</td>\n      <td>NaN</td>\n      <td>NaN</td>\n      <td>NaN</td>\n      <td>https://twitter.com/dog_rates/status/666020888...</td>\n      <td>8</td>\n      <td>10</td>\n      <td>None</td>\n      <td>None</td>\n      <td>None</td>\n      <td>None</td>\n      <td>None</td>\n    </tr>\n  </tbody>\n</table>\n<p>2356 rows × 17 columns</p>\n</div>"
     },
     "execution_count": 7,
     "metadata": {},
     "output_type": "execute_result"
    }
   ],
   "source": [
    "# Display the twitter archive dataframe\n",
    "tweet_data_archived"
   ],
   "metadata": {
    "collapsed": false,
    "pycharm": {
     "name": "#%%\n"
    }
   }
  },
  {
   "cell_type": "markdown",
   "source": [
    "##### `tweet_data_archived` quality issues\n",
    "- html tags on the source column\n",
    "- the dog names have issues, ie some names are clearly not names, some have 'none' instead of NAn\n",
    "- missing data\n",
    "\n",
    "\n",
    "##### `tweet_data_archived` tidiness issues\n",
    "- the dog stages [doggo,  pupper, floofer, puppo] are in different columns\n"
   ],
   "metadata": {
    "collapsed": false,
    "pycharm": {
     "name": "#%% md\n"
    }
   }
  },
  {
   "cell_type": "code",
   "execution_count": 8,
   "outputs": [
    {
     "data": {
      "text/plain": "                tweet_id  retweet_count  favorite_count  \\\n0     892420643555336193           7001           33804   \n1     892177421306343426           5299           29315   \n2     891815181378084864           3477           22041   \n3     891689557279858688           7223           36922   \n4     891327558926688256           7754           35300   \n...                  ...            ...             ...   \n2322  666049248165822465             37              89   \n2323  666044226329800704            115             247   \n2324  666033412701032449             36             100   \n2325  666029285002620928             39             112   \n2326  666020888022790149            422            2292   \n\n                         create_date  \n0     Tue Aug 01 16:23:56 +0000 2017  \n1     Tue Aug 01 00:17:27 +0000 2017  \n2     Mon Jul 31 00:18:03 +0000 2017  \n3     Sun Jul 30 15:58:51 +0000 2017  \n4     Sat Jul 29 16:00:24 +0000 2017  \n...                              ...  \n2322  Mon Nov 16 00:24:50 +0000 2015  \n2323  Mon Nov 16 00:04:52 +0000 2015  \n2324  Sun Nov 15 23:21:54 +0000 2015  \n2325  Sun Nov 15 23:05:30 +0000 2015  \n2326  Sun Nov 15 22:32:08 +0000 2015  \n\n[2327 rows x 4 columns]",
      "text/html": "<div>\n<style scoped>\n    .dataframe tbody tr th:only-of-type {\n        vertical-align: middle;\n    }\n\n    .dataframe tbody tr th {\n        vertical-align: top;\n    }\n\n    .dataframe thead th {\n        text-align: right;\n    }\n</style>\n<table border=\"1\" class=\"dataframe\">\n  <thead>\n    <tr style=\"text-align: right;\">\n      <th></th>\n      <th>tweet_id</th>\n      <th>retweet_count</th>\n      <th>favorite_count</th>\n      <th>create_date</th>\n    </tr>\n  </thead>\n  <tbody>\n    <tr>\n      <th>0</th>\n      <td>892420643555336193</td>\n      <td>7001</td>\n      <td>33804</td>\n      <td>Tue Aug 01 16:23:56 +0000 2017</td>\n    </tr>\n    <tr>\n      <th>1</th>\n      <td>892177421306343426</td>\n      <td>5299</td>\n      <td>29315</td>\n      <td>Tue Aug 01 00:17:27 +0000 2017</td>\n    </tr>\n    <tr>\n      <th>2</th>\n      <td>891815181378084864</td>\n      <td>3477</td>\n      <td>22041</td>\n      <td>Mon Jul 31 00:18:03 +0000 2017</td>\n    </tr>\n    <tr>\n      <th>3</th>\n      <td>891689557279858688</td>\n      <td>7223</td>\n      <td>36922</td>\n      <td>Sun Jul 30 15:58:51 +0000 2017</td>\n    </tr>\n    <tr>\n      <th>4</th>\n      <td>891327558926688256</td>\n      <td>7754</td>\n      <td>35300</td>\n      <td>Sat Jul 29 16:00:24 +0000 2017</td>\n    </tr>\n    <tr>\n      <th>...</th>\n      <td>...</td>\n      <td>...</td>\n      <td>...</td>\n      <td>...</td>\n    </tr>\n    <tr>\n      <th>2322</th>\n      <td>666049248165822465</td>\n      <td>37</td>\n      <td>89</td>\n      <td>Mon Nov 16 00:24:50 +0000 2015</td>\n    </tr>\n    <tr>\n      <th>2323</th>\n      <td>666044226329800704</td>\n      <td>115</td>\n      <td>247</td>\n      <td>Mon Nov 16 00:04:52 +0000 2015</td>\n    </tr>\n    <tr>\n      <th>2324</th>\n      <td>666033412701032449</td>\n      <td>36</td>\n      <td>100</td>\n      <td>Sun Nov 15 23:21:54 +0000 2015</td>\n    </tr>\n    <tr>\n      <th>2325</th>\n      <td>666029285002620928</td>\n      <td>39</td>\n      <td>112</td>\n      <td>Sun Nov 15 23:05:30 +0000 2015</td>\n    </tr>\n    <tr>\n      <th>2326</th>\n      <td>666020888022790149</td>\n      <td>422</td>\n      <td>2292</td>\n      <td>Sun Nov 15 22:32:08 +0000 2015</td>\n    </tr>\n  </tbody>\n</table>\n<p>2327 rows × 4 columns</p>\n</div>"
     },
     "execution_count": 8,
     "metadata": {},
     "output_type": "execute_result"
    }
   ],
   "source": [
    "# Display the data obtained from the Twitter API\n",
    "tweet_data_extra"
   ],
   "metadata": {
    "collapsed": false,
    "pycharm": {
     "name": "#%%\n"
    }
   }
  },
  {
   "cell_type": "markdown",
   "source": [
    "##### `tweet_data_extra` quality issues\n",
    "\n",
    "##### `tweet_data_extra` tidiness issues\n",
    "merge the data to the tweet_data_archived dataframe\n"
   ],
   "metadata": {
    "collapsed": false,
    "pycharm": {
     "name": "#%% md\n"
    }
   }
  },
  {
   "cell_type": "code",
   "execution_count": 9,
   "outputs": [
    {
     "data": {
      "text/plain": "                tweet_id                                          jpg_url  \\\n0     666020888022790149  https://pbs.twimg.com/media/CT4udn0WwAA0aMy.jpg   \n1     666029285002620928  https://pbs.twimg.com/media/CT42GRgUYAA5iDo.jpg   \n2     666033412701032449  https://pbs.twimg.com/media/CT4521TWwAEvMyu.jpg   \n3     666044226329800704  https://pbs.twimg.com/media/CT5Dr8HUEAA-lEu.jpg   \n4     666049248165822465  https://pbs.twimg.com/media/CT5IQmsXIAAKY4A.jpg   \n...                  ...                                              ...   \n2070  891327558926688256  https://pbs.twimg.com/media/DF6hr6BUMAAzZgT.jpg   \n2071  891689557279858688  https://pbs.twimg.com/media/DF_q7IAWsAEuuN8.jpg   \n2072  891815181378084864  https://pbs.twimg.com/media/DGBdLU1WsAANxJ9.jpg   \n2073  892177421306343426  https://pbs.twimg.com/media/DGGmoV4XsAAUL6n.jpg   \n2074  892420643555336193  https://pbs.twimg.com/media/DGKD1-bXoAAIAUK.jpg   \n\n      img_num                      p1   p1_conf  p1_dog                  p2  \\\n0           1  Welsh_springer_spaniel  0.465074    True              collie   \n1           1                 redbone  0.506826    True  miniature_pinscher   \n2           1         German_shepherd  0.596461    True            malinois   \n3           1     Rhodesian_ridgeback  0.408143    True             redbone   \n4           1      miniature_pinscher  0.560311    True          Rottweiler   \n...       ...                     ...       ...     ...                 ...   \n2070        2                  basset  0.555712    True    English_springer   \n2071        1             paper_towel  0.170278   False  Labrador_retriever   \n2072        1               Chihuahua  0.716012    True            malamute   \n2073        1               Chihuahua  0.323581    True            Pekinese   \n2074        1                  orange  0.097049   False               bagel   \n\n       p2_conf  p2_dog                           p3   p3_conf  p3_dog  \n0     0.156665    True            Shetland_sheepdog  0.061428    True  \n1     0.074192    True          Rhodesian_ridgeback  0.072010    True  \n2     0.138584    True                   bloodhound  0.116197    True  \n3     0.360687    True           miniature_pinscher  0.222752    True  \n4     0.243682    True                     Doberman  0.154629    True  \n...        ...     ...                          ...       ...     ...  \n2070  0.225770    True  German_short-haired_pointer  0.175219    True  \n2071  0.168086    True                      spatula  0.040836   False  \n2072  0.078253    True                       kelpie  0.031379    True  \n2073  0.090647    True                     papillon  0.068957    True  \n2074  0.085851   False                       banana  0.076110   False  \n\n[2075 rows x 12 columns]",
      "text/html": "<div>\n<style scoped>\n    .dataframe tbody tr th:only-of-type {\n        vertical-align: middle;\n    }\n\n    .dataframe tbody tr th {\n        vertical-align: top;\n    }\n\n    .dataframe thead th {\n        text-align: right;\n    }\n</style>\n<table border=\"1\" class=\"dataframe\">\n  <thead>\n    <tr style=\"text-align: right;\">\n      <th></th>\n      <th>tweet_id</th>\n      <th>jpg_url</th>\n      <th>img_num</th>\n      <th>p1</th>\n      <th>p1_conf</th>\n      <th>p1_dog</th>\n      <th>p2</th>\n      <th>p2_conf</th>\n      <th>p2_dog</th>\n      <th>p3</th>\n      <th>p3_conf</th>\n      <th>p3_dog</th>\n    </tr>\n  </thead>\n  <tbody>\n    <tr>\n      <th>0</th>\n      <td>666020888022790149</td>\n      <td>https://pbs.twimg.com/media/CT4udn0WwAA0aMy.jpg</td>\n      <td>1</td>\n      <td>Welsh_springer_spaniel</td>\n      <td>0.465074</td>\n      <td>True</td>\n      <td>collie</td>\n      <td>0.156665</td>\n      <td>True</td>\n      <td>Shetland_sheepdog</td>\n      <td>0.061428</td>\n      <td>True</td>\n    </tr>\n    <tr>\n      <th>1</th>\n      <td>666029285002620928</td>\n      <td>https://pbs.twimg.com/media/CT42GRgUYAA5iDo.jpg</td>\n      <td>1</td>\n      <td>redbone</td>\n      <td>0.506826</td>\n      <td>True</td>\n      <td>miniature_pinscher</td>\n      <td>0.074192</td>\n      <td>True</td>\n      <td>Rhodesian_ridgeback</td>\n      <td>0.072010</td>\n      <td>True</td>\n    </tr>\n    <tr>\n      <th>2</th>\n      <td>666033412701032449</td>\n      <td>https://pbs.twimg.com/media/CT4521TWwAEvMyu.jpg</td>\n      <td>1</td>\n      <td>German_shepherd</td>\n      <td>0.596461</td>\n      <td>True</td>\n      <td>malinois</td>\n      <td>0.138584</td>\n      <td>True</td>\n      <td>bloodhound</td>\n      <td>0.116197</td>\n      <td>True</td>\n    </tr>\n    <tr>\n      <th>3</th>\n      <td>666044226329800704</td>\n      <td>https://pbs.twimg.com/media/CT5Dr8HUEAA-lEu.jpg</td>\n      <td>1</td>\n      <td>Rhodesian_ridgeback</td>\n      <td>0.408143</td>\n      <td>True</td>\n      <td>redbone</td>\n      <td>0.360687</td>\n      <td>True</td>\n      <td>miniature_pinscher</td>\n      <td>0.222752</td>\n      <td>True</td>\n    </tr>\n    <tr>\n      <th>4</th>\n      <td>666049248165822465</td>\n      <td>https://pbs.twimg.com/media/CT5IQmsXIAAKY4A.jpg</td>\n      <td>1</td>\n      <td>miniature_pinscher</td>\n      <td>0.560311</td>\n      <td>True</td>\n      <td>Rottweiler</td>\n      <td>0.243682</td>\n      <td>True</td>\n      <td>Doberman</td>\n      <td>0.154629</td>\n      <td>True</td>\n    </tr>\n    <tr>\n      <th>...</th>\n      <td>...</td>\n      <td>...</td>\n      <td>...</td>\n      <td>...</td>\n      <td>...</td>\n      <td>...</td>\n      <td>...</td>\n      <td>...</td>\n      <td>...</td>\n      <td>...</td>\n      <td>...</td>\n      <td>...</td>\n    </tr>\n    <tr>\n      <th>2070</th>\n      <td>891327558926688256</td>\n      <td>https://pbs.twimg.com/media/DF6hr6BUMAAzZgT.jpg</td>\n      <td>2</td>\n      <td>basset</td>\n      <td>0.555712</td>\n      <td>True</td>\n      <td>English_springer</td>\n      <td>0.225770</td>\n      <td>True</td>\n      <td>German_short-haired_pointer</td>\n      <td>0.175219</td>\n      <td>True</td>\n    </tr>\n    <tr>\n      <th>2071</th>\n      <td>891689557279858688</td>\n      <td>https://pbs.twimg.com/media/DF_q7IAWsAEuuN8.jpg</td>\n      <td>1</td>\n      <td>paper_towel</td>\n      <td>0.170278</td>\n      <td>False</td>\n      <td>Labrador_retriever</td>\n      <td>0.168086</td>\n      <td>True</td>\n      <td>spatula</td>\n      <td>0.040836</td>\n      <td>False</td>\n    </tr>\n    <tr>\n      <th>2072</th>\n      <td>891815181378084864</td>\n      <td>https://pbs.twimg.com/media/DGBdLU1WsAANxJ9.jpg</td>\n      <td>1</td>\n      <td>Chihuahua</td>\n      <td>0.716012</td>\n      <td>True</td>\n      <td>malamute</td>\n      <td>0.078253</td>\n      <td>True</td>\n      <td>kelpie</td>\n      <td>0.031379</td>\n      <td>True</td>\n    </tr>\n    <tr>\n      <th>2073</th>\n      <td>892177421306343426</td>\n      <td>https://pbs.twimg.com/media/DGGmoV4XsAAUL6n.jpg</td>\n      <td>1</td>\n      <td>Chihuahua</td>\n      <td>0.323581</td>\n      <td>True</td>\n      <td>Pekinese</td>\n      <td>0.090647</td>\n      <td>True</td>\n      <td>papillon</td>\n      <td>0.068957</td>\n      <td>True</td>\n    </tr>\n    <tr>\n      <th>2074</th>\n      <td>892420643555336193</td>\n      <td>https://pbs.twimg.com/media/DGKD1-bXoAAIAUK.jpg</td>\n      <td>1</td>\n      <td>orange</td>\n      <td>0.097049</td>\n      <td>False</td>\n      <td>bagel</td>\n      <td>0.085851</td>\n      <td>False</td>\n      <td>banana</td>\n      <td>0.076110</td>\n      <td>False</td>\n    </tr>\n  </tbody>\n</table>\n<p>2075 rows × 12 columns</p>\n</div>"
     },
     "execution_count": 9,
     "metadata": {},
     "output_type": "execute_result"
    }
   ],
   "source": [
    "# Display the image prediction results dataframe\n",
    "images"
   ],
   "metadata": {
    "collapsed": false,
    "pycharm": {
     "name": "#%%\n"
    }
   }
  },
  {
   "cell_type": "markdown",
   "source": [
    "##### `tweet_image_pred` quality issues\n",
    "- Words combined using underscore in `p1`, `p2`, and `p3`\n",
    "\n",
    "##### `tweet_image_pred` tidiness issues\n",
    "merge the data with the other dataframes, they contain same data on the tweet\n",
    "\n",
    "##### Tidiness issues summary\n",
    " - Correct predictions should be combined with `tweet_data_archived`"
   ],
   "metadata": {
    "collapsed": false,
    "pycharm": {
     "name": "#%% md\n"
    }
   }
  },
  {
   "cell_type": "code",
   "execution_count": 10,
   "outputs": [
    {
     "name": "stdout",
     "output_type": "stream",
     "text": [
      "<class 'pandas.core.frame.DataFrame'>\n",
      "RangeIndex: 2356 entries, 0 to 2355\n",
      "Data columns (total 17 columns):\n",
      " #   Column                      Non-Null Count  Dtype  \n",
      "---  ------                      --------------  -----  \n",
      " 0   tweet_id                    2356 non-null   int64  \n",
      " 1   in_reply_to_status_id       78 non-null     float64\n",
      " 2   in_reply_to_user_id         78 non-null     float64\n",
      " 3   timestamp                   2356 non-null   object \n",
      " 4   source                      2356 non-null   object \n",
      " 5   text                        2356 non-null   object \n",
      " 6   retweeted_status_id         181 non-null    float64\n",
      " 7   retweeted_status_user_id    181 non-null    float64\n",
      " 8   retweeted_status_timestamp  181 non-null    object \n",
      " 9   expanded_urls               2297 non-null   object \n",
      " 10  rating_numerator            2356 non-null   int64  \n",
      " 11  rating_denominator          2356 non-null   int64  \n",
      " 12  name                        2356 non-null   object \n",
      " 13  doggo                       2356 non-null   object \n",
      " 14  floofer                     2356 non-null   object \n",
      " 15  pupper                      2356 non-null   object \n",
      " 16  puppo                       2356 non-null   object \n",
      "dtypes: float64(4), int64(3), object(10)\n",
      "memory usage: 313.0+ KB\n"
     ]
    }
   ],
   "source": [
    "### Programmatic assessment\n",
    "\n",
    "# Display the basic info\n",
    "tweet_data_archived.info()"
   ],
   "metadata": {
    "collapsed": false,
    "pycharm": {
     "name": "#%%\n"
    }
   }
  },
  {
   "cell_type": "markdown",
   "source": [
    "##### `tweet_data_archived` quality issues \n",
    "some datatypes such as:\n",
    "- timestamp columns have object datatype instead of datetime datatype\n",
    "- ID columns are of int type\n",
    "\n",
    "contains retweets\n"
   ],
   "metadata": {
    "collapsed": false,
    "pycharm": {
     "name": "#%% md\n"
    }
   }
  },
  {
   "cell_type": "code",
   "execution_count": 11,
   "outputs": [
    {
     "name": "stdout",
     "output_type": "stream",
     "text": [
      "<class 'pandas.core.frame.DataFrame'>\n",
      "RangeIndex: 2327 entries, 0 to 2326\n",
      "Data columns (total 4 columns):\n",
      " #   Column          Non-Null Count  Dtype \n",
      "---  ------          --------------  ----- \n",
      " 0   tweet_id        2327 non-null   int64 \n",
      " 1   retweet_count   2327 non-null   int64 \n",
      " 2   favorite_count  2327 non-null   int64 \n",
      " 3   create_date     2327 non-null   object\n",
      "dtypes: int64(3), object(1)\n",
      "memory usage: 72.8+ KB\n"
     ]
    }
   ],
   "source": [
    "# Display the structure of the supplementary data dataframe\n",
    "tweet_data_extra.info()"
   ],
   "metadata": {
    "collapsed": false,
    "pycharm": {
     "name": "#%%\n"
    }
   }
  },
  {
   "cell_type": "markdown",
   "source": [
    "##### `tweet_data_extra` quality issues\n",
    "the datatype for tweet_id column is not correct\n",
    "missing values, might be deleted tweets\n"
   ],
   "metadata": {
    "collapsed": false,
    "pycharm": {
     "name": "#%% md\n"
    }
   }
  },
  {
   "cell_type": "code",
   "execution_count": 12,
   "outputs": [
    {
     "name": "stdout",
     "output_type": "stream",
     "text": [
      "<class 'pandas.core.frame.DataFrame'>\n",
      "RangeIndex: 2075 entries, 0 to 2074\n",
      "Data columns (total 12 columns):\n",
      " #   Column    Non-Null Count  Dtype  \n",
      "---  ------    --------------  -----  \n",
      " 0   tweet_id  2075 non-null   int64  \n",
      " 1   jpg_url   2075 non-null   object \n",
      " 2   img_num   2075 non-null   int64  \n",
      " 3   p1        2075 non-null   object \n",
      " 4   p1_conf   2075 non-null   float64\n",
      " 5   p1_dog    2075 non-null   bool   \n",
      " 6   p2        2075 non-null   object \n",
      " 7   p2_conf   2075 non-null   float64\n",
      " 8   p2_dog    2075 non-null   bool   \n",
      " 9   p3        2075 non-null   object \n",
      " 10  p3_conf   2075 non-null   float64\n",
      " 11  p3_dog    2075 non-null   bool   \n",
      "dtypes: bool(3), float64(3), int64(2), object(4)\n",
      "memory usage: 152.1+ KB\n"
     ]
    }
   ],
   "source": [
    "# Display the structure of the image prediction results dataframe\n",
    "images.info()"
   ],
   "metadata": {
    "collapsed": false,
    "pycharm": {
     "name": "#%%\n"
    }
   }
  },
  {
   "cell_type": "markdown",
   "source": [
    "##### `images` quality issues\n",
    "tweet_id's datatype is int should change it to string"
   ],
   "metadata": {
    "collapsed": false,
    "pycharm": {
     "name": "#%% md\n"
    }
   }
  },
  {
   "cell_type": "markdown",
   "source": [
    "#### Duplicate data"
   ],
   "metadata": {
    "collapsed": false,
    "pycharm": {
     "name": "#%% md\n"
    }
   }
  },
  {
   "cell_type": "code",
   "execution_count": 13,
   "outputs": [
    {
     "data": {
      "text/plain": "Empty DataFrame\nColumns: [tweet_id, in_reply_to_status_id, in_reply_to_user_id, timestamp, source, text, retweeted_status_id, retweeted_status_user_id, retweeted_status_timestamp, expanded_urls, rating_numerator, rating_denominator, name, doggo, floofer, pupper, puppo]\nIndex: []",
      "text/html": "<div>\n<style scoped>\n    .dataframe tbody tr th:only-of-type {\n        vertical-align: middle;\n    }\n\n    .dataframe tbody tr th {\n        vertical-align: top;\n    }\n\n    .dataframe thead th {\n        text-align: right;\n    }\n</style>\n<table border=\"1\" class=\"dataframe\">\n  <thead>\n    <tr style=\"text-align: right;\">\n      <th></th>\n      <th>tweet_id</th>\n      <th>in_reply_to_status_id</th>\n      <th>in_reply_to_user_id</th>\n      <th>timestamp</th>\n      <th>source</th>\n      <th>text</th>\n      <th>retweeted_status_id</th>\n      <th>retweeted_status_user_id</th>\n      <th>retweeted_status_timestamp</th>\n      <th>expanded_urls</th>\n      <th>rating_numerator</th>\n      <th>rating_denominator</th>\n      <th>name</th>\n      <th>doggo</th>\n      <th>floofer</th>\n      <th>pupper</th>\n      <th>puppo</th>\n    </tr>\n  </thead>\n  <tbody>\n  </tbody>\n</table>\n</div>"
     },
     "execution_count": 13,
     "metadata": {},
     "output_type": "execute_result"
    }
   ],
   "source": [
    "# Check for duplicate rows and tweet ids in each dataframe\n",
    "tweet_data_archived[tweet_data_archived.tweet_id.duplicated()]"
   ],
   "metadata": {
    "collapsed": false,
    "pycharm": {
     "name": "#%%\n"
    }
   }
  },
  {
   "cell_type": "code",
   "execution_count": 14,
   "outputs": [
    {
     "data": {
      "text/plain": "Empty DataFrame\nColumns: [tweet_id, retweet_count, favorite_count, create_date]\nIndex: []",
      "text/html": "<div>\n<style scoped>\n    .dataframe tbody tr th:only-of-type {\n        vertical-align: middle;\n    }\n\n    .dataframe tbody tr th {\n        vertical-align: top;\n    }\n\n    .dataframe thead th {\n        text-align: right;\n    }\n</style>\n<table border=\"1\" class=\"dataframe\">\n  <thead>\n    <tr style=\"text-align: right;\">\n      <th></th>\n      <th>tweet_id</th>\n      <th>retweet_count</th>\n      <th>favorite_count</th>\n      <th>create_date</th>\n    </tr>\n  </thead>\n  <tbody>\n  </tbody>\n</table>\n</div>"
     },
     "execution_count": 14,
     "metadata": {},
     "output_type": "execute_result"
    }
   ],
   "source": [
    "tweet_data_extra[tweet_data_extra.tweet_id.duplicated()]"
   ],
   "metadata": {
    "collapsed": false,
    "pycharm": {
     "name": "#%%\n"
    }
   }
  },
  {
   "cell_type": "code",
   "execution_count": 15,
   "outputs": [
    {
     "data": {
      "text/plain": "Empty DataFrame\nColumns: [tweet_id, jpg_url, img_num, p1, p1_conf, p1_dog, p2, p2_conf, p2_dog, p3, p3_conf, p3_dog]\nIndex: []",
      "text/html": "<div>\n<style scoped>\n    .dataframe tbody tr th:only-of-type {\n        vertical-align: middle;\n    }\n\n    .dataframe tbody tr th {\n        vertical-align: top;\n    }\n\n    .dataframe thead th {\n        text-align: right;\n    }\n</style>\n<table border=\"1\" class=\"dataframe\">\n  <thead>\n    <tr style=\"text-align: right;\">\n      <th></th>\n      <th>tweet_id</th>\n      <th>jpg_url</th>\n      <th>img_num</th>\n      <th>p1</th>\n      <th>p1_conf</th>\n      <th>p1_dog</th>\n      <th>p2</th>\n      <th>p2_conf</th>\n      <th>p2_dog</th>\n      <th>p3</th>\n      <th>p3_conf</th>\n      <th>p3_dog</th>\n    </tr>\n  </thead>\n  <tbody>\n  </tbody>\n</table>\n</div>"
     },
     "execution_count": 15,
     "metadata": {},
     "output_type": "execute_result"
    }
   ],
   "source": [
    "images[images.tweet_id.duplicated()]"
   ],
   "metadata": {
    "collapsed": false,
    "pycharm": {
     "name": "#%%\n"
    }
   }
  },
  {
   "cell_type": "markdown",
   "source": [],
   "metadata": {
    "collapsed": false,
    "pycharm": {
     "name": "#%% md\n"
    }
   }
  },
  {
   "cell_type": "markdown",
   "source": [
    "#### Invalid or inaccurate data\n"
   ],
   "metadata": {
    "collapsed": false,
    "pycharm": {
     "name": "#%% md\n"
    }
   }
  },
  {
   "cell_type": "code",
   "execution_count": 16,
   "outputs": [
    {
     "data": {
      "text/plain": "       rating_numerator  rating_denominator\ncount       2356.000000         2356.000000\nmean          13.126486           10.455433\nstd           45.876648            6.745237\nmin            0.000000            0.000000\n25%           10.000000           10.000000\n50%           11.000000           10.000000\n75%           12.000000           10.000000\nmax         1776.000000          170.000000",
      "text/html": "<div>\n<style scoped>\n    .dataframe tbody tr th:only-of-type {\n        vertical-align: middle;\n    }\n\n    .dataframe tbody tr th {\n        vertical-align: top;\n    }\n\n    .dataframe thead th {\n        text-align: right;\n    }\n</style>\n<table border=\"1\" class=\"dataframe\">\n  <thead>\n    <tr style=\"text-align: right;\">\n      <th></th>\n      <th>rating_numerator</th>\n      <th>rating_denominator</th>\n    </tr>\n  </thead>\n  <tbody>\n    <tr>\n      <th>count</th>\n      <td>2356.000000</td>\n      <td>2356.000000</td>\n    </tr>\n    <tr>\n      <th>mean</th>\n      <td>13.126486</td>\n      <td>10.455433</td>\n    </tr>\n    <tr>\n      <th>std</th>\n      <td>45.876648</td>\n      <td>6.745237</td>\n    </tr>\n    <tr>\n      <th>min</th>\n      <td>0.000000</td>\n      <td>0.000000</td>\n    </tr>\n    <tr>\n      <th>25%</th>\n      <td>10.000000</td>\n      <td>10.000000</td>\n    </tr>\n    <tr>\n      <th>50%</th>\n      <td>11.000000</td>\n      <td>10.000000</td>\n    </tr>\n    <tr>\n      <th>75%</th>\n      <td>12.000000</td>\n      <td>10.000000</td>\n    </tr>\n    <tr>\n      <th>max</th>\n      <td>1776.000000</td>\n      <td>170.000000</td>\n    </tr>\n  </tbody>\n</table>\n</div>"
     },
     "execution_count": 16,
     "metadata": {},
     "output_type": "execute_result"
    }
   ],
   "source": [
    "# describe the tweet_archive dataframe\n",
    "tweet_data_archived[['rating_numerator', 'rating_denominator']].describe()"
   ],
   "metadata": {
    "collapsed": false,
    "pycharm": {
     "name": "#%%\n"
    }
   }
  },
  {
   "cell_type": "markdown",
   "source": [
    "##### `tweet_data_archived` quality issues\n",
    "some values are below the denominator 10, and some are very large values\n"
   ],
   "metadata": {
    "collapsed": false,
    "pycharm": {
     "name": "#%% md\n"
    }
   }
  },
  {
   "cell_type": "code",
   "execution_count": 17,
   "outputs": [
    {
     "data": {
      "text/plain": "1776      1\n960       1\n666       1\n420       2\n204       1\n182       1\n165       1\n144       1\n143       1\n121       1\n99        1\n88        1\n84        1\n80        1\n75        2\n60        1\n50        1\n45        1\n44        1\n27        1\n26        1\n24        1\n20        1\n17        1\n15        2\n14       54\n13      351\n12      558\n11      464\n10      461\n9       158\n8       102\n7        55\n6        32\n5        37\n4        17\n3        19\n2         9\n1         9\n0         2\nName: rating_numerator, dtype: int64"
     },
     "execution_count": 17,
     "metadata": {},
     "output_type": "execute_result"
    }
   ],
   "source": [
    "# checking for large values\n",
    "tweet_data_archived.rating_numerator.value_counts().sort_index(ascending=False)"
   ],
   "metadata": {
    "collapsed": false,
    "pycharm": {
     "name": "#%%\n"
    }
   }
  },
  {
   "cell_type": "code",
   "execution_count": 18,
   "outputs": [
    {
     "data": {
      "text/plain": "170       1\n150       1\n130       1\n120       1\n110       1\n90        1\n80        2\n70        1\n50        3\n40        1\n20        2\n16        1\n15        1\n11        3\n10     2333\n7         1\n2         1\n0         1\nName: rating_denominator, dtype: int64"
     },
     "execution_count": 18,
     "metadata": {},
     "output_type": "execute_result"
    }
   ],
   "source": [
    "# checking for values below the denominator 10\n",
    "tweet_data_archived.rating_denominator.value_counts().sort_index(ascending=False)"
   ],
   "metadata": {
    "collapsed": false,
    "pycharm": {
     "name": "#%%\n"
    }
   }
  },
  {
   "cell_type": "code",
   "execution_count": 19,
   "outputs": [
    {
     "data": {
      "text/plain": "       retweet_count  favorite_count\ncount    2327.000000     2327.000000\nmean     2469.403524     7050.988397\nstd      4182.102561    10957.640787\nmin         1.000000        0.000000\n25%       493.500000     1224.500000\n50%      1148.000000     3050.000000\n75%      2860.000000     8601.000000\nmax     70682.000000   144815.000000",
      "text/html": "<div>\n<style scoped>\n    .dataframe tbody tr th:only-of-type {\n        vertical-align: middle;\n    }\n\n    .dataframe tbody tr th {\n        vertical-align: top;\n    }\n\n    .dataframe thead th {\n        text-align: right;\n    }\n</style>\n<table border=\"1\" class=\"dataframe\">\n  <thead>\n    <tr style=\"text-align: right;\">\n      <th></th>\n      <th>retweet_count</th>\n      <th>favorite_count</th>\n    </tr>\n  </thead>\n  <tbody>\n    <tr>\n      <th>count</th>\n      <td>2327.000000</td>\n      <td>2327.000000</td>\n    </tr>\n    <tr>\n      <th>mean</th>\n      <td>2469.403524</td>\n      <td>7050.988397</td>\n    </tr>\n    <tr>\n      <th>std</th>\n      <td>4182.102561</td>\n      <td>10957.640787</td>\n    </tr>\n    <tr>\n      <th>min</th>\n      <td>1.000000</td>\n      <td>0.000000</td>\n    </tr>\n    <tr>\n      <th>25%</th>\n      <td>493.500000</td>\n      <td>1224.500000</td>\n    </tr>\n    <tr>\n      <th>50%</th>\n      <td>1148.000000</td>\n      <td>3050.000000</td>\n    </tr>\n    <tr>\n      <th>75%</th>\n      <td>2860.000000</td>\n      <td>8601.000000</td>\n    </tr>\n    <tr>\n      <th>max</th>\n      <td>70682.000000</td>\n      <td>144815.000000</td>\n    </tr>\n  </tbody>\n</table>\n</div>"
     },
     "execution_count": 19,
     "metadata": {},
     "output_type": "execute_result"
    }
   ],
   "source": [
    "# describe the df\n",
    "tweet_data_extra[['retweet_count', 'favorite_count']].describe()"
   ],
   "metadata": {
    "collapsed": false,
    "pycharm": {
     "name": "#%%\n"
    }
   }
  },
  {
   "cell_type": "code",
   "execution_count": 20,
   "outputs": [
    {
     "data": {
      "text/plain": "           img_num      p1_conf       p2_conf       p3_conf\ncount  2075.000000  2075.000000  2.075000e+03  2.075000e+03\nmean      1.203855     0.594548  1.345886e-01  6.032417e-02\nstd       0.561875     0.271174  1.006657e-01  5.090593e-02\nmin       1.000000     0.044333  1.011300e-08  1.740170e-10\n25%       1.000000     0.364412  5.388625e-02  1.622240e-02\n50%       1.000000     0.588230  1.181810e-01  4.944380e-02\n75%       1.000000     0.843855  1.955655e-01  9.180755e-02\nmax       4.000000     1.000000  4.880140e-01  2.734190e-01",
      "text/html": "<div>\n<style scoped>\n    .dataframe tbody tr th:only-of-type {\n        vertical-align: middle;\n    }\n\n    .dataframe tbody tr th {\n        vertical-align: top;\n    }\n\n    .dataframe thead th {\n        text-align: right;\n    }\n</style>\n<table border=\"1\" class=\"dataframe\">\n  <thead>\n    <tr style=\"text-align: right;\">\n      <th></th>\n      <th>img_num</th>\n      <th>p1_conf</th>\n      <th>p2_conf</th>\n      <th>p3_conf</th>\n    </tr>\n  </thead>\n  <tbody>\n    <tr>\n      <th>count</th>\n      <td>2075.000000</td>\n      <td>2075.000000</td>\n      <td>2.075000e+03</td>\n      <td>2.075000e+03</td>\n    </tr>\n    <tr>\n      <th>mean</th>\n      <td>1.203855</td>\n      <td>0.594548</td>\n      <td>1.345886e-01</td>\n      <td>6.032417e-02</td>\n    </tr>\n    <tr>\n      <th>std</th>\n      <td>0.561875</td>\n      <td>0.271174</td>\n      <td>1.006657e-01</td>\n      <td>5.090593e-02</td>\n    </tr>\n    <tr>\n      <th>min</th>\n      <td>1.000000</td>\n      <td>0.044333</td>\n      <td>1.011300e-08</td>\n      <td>1.740170e-10</td>\n    </tr>\n    <tr>\n      <th>25%</th>\n      <td>1.000000</td>\n      <td>0.364412</td>\n      <td>5.388625e-02</td>\n      <td>1.622240e-02</td>\n    </tr>\n    <tr>\n      <th>50%</th>\n      <td>1.000000</td>\n      <td>0.588230</td>\n      <td>1.181810e-01</td>\n      <td>4.944380e-02</td>\n    </tr>\n    <tr>\n      <th>75%</th>\n      <td>1.000000</td>\n      <td>0.843855</td>\n      <td>1.955655e-01</td>\n      <td>9.180755e-02</td>\n    </tr>\n    <tr>\n      <th>max</th>\n      <td>4.000000</td>\n      <td>1.000000</td>\n      <td>4.880140e-01</td>\n      <td>2.734190e-01</td>\n    </tr>\n  </tbody>\n</table>\n</div>"
     },
     "execution_count": 20,
     "metadata": {},
     "output_type": "execute_result"
    }
   ],
   "source": [
    "# describe the df\n",
    "images[['img_num', 'p1_conf', 'p2_conf', 'p3_conf']].describe()"
   ],
   "metadata": {
    "collapsed": false,
    "pycharm": {
     "name": "#%%\n"
    }
   }
  },
  {
   "cell_type": "markdown",
   "source": [
    "### Summary of quality and tidiness issues\n",
    "\n",
    "Here I've listed all of the quality and tidiness issues I found in the `tweet_data_archived`, `tweet_data_extra`, and `tweet_image_pred` dataframes.\n",
    "\n",
    "#### Quality\n",
    "\n",
    "##### `tweet_data_archived`\n",
    " - HTML tags in `source`\n",
    " - `name` contains words that are clearly not names\n",
    " - Missing data in `name` encoded as the string 'None'\n",
    " - Erroneous datatypes (`*_id`, `*timestamp`)\n",
    " - `tweet_data_archived` contains retweets\n",
    " - Some tweets don't contain useful data\n",
    " \n",
    "##### `tweet_data_extra`\n",
    " - Erroneous datatype for `tweet_id` column\n",
    "\n",
    "##### `images`\n",
    " - Erroneous datatype for `tweet_id` column\n",
    " - Words combined using underscore in `p1`, `p2`, and `p3`\n",
    "\n",
    "#### Tidiness\n",
    "\n",
    "##### `tweet_data_archived`\n",
    " - One variable, the type of dog (e.g. `puppo`), spread over four columns\n",
    "\n",
    "##### `tweet_data_extra`\n",
    " - `retweet_count` and `favorite_count` should be part of `tweet_data_archived`\n",
    " \n",
    "##### `images`\n",
    " - Correct predictions should be combined with `tweet_data_archived`"
   ],
   "metadata": {
    "collapsed": false,
    "pycharm": {
     "name": "#%% md\n"
    }
   }
  },
  {
   "cell_type": "markdown",
   "source": [
    "## Clean\n",
    "\n",
    "After having assessed the data for quality and tidiness issues I can now clean the data. I'll start by creating copies of each dataframe"
   ],
   "metadata": {
    "collapsed": false,
    "pycharm": {
     "name": "#%% md\n"
    }
   }
  },
  {
   "cell_type": "code",
   "execution_count": 21,
   "outputs": [],
   "source": [
    "# Create copies of the tweet_data_archived, tweet_data_extra and tweet_image_pred dataframes\n",
    "tweet_data_archived_clean = tweet_data_archived.copy()\n",
    "tweet_data_extra_clean = tweet_data_extra.copy()\n",
    "images_clean = images.copy()"
   ],
   "metadata": {
    "collapsed": false,
    "pycharm": {
     "name": "#%%\n"
    }
   }
  },
  {
   "cell_type": "markdown",
   "source": [
    "### Tidiness\n",
    "\n",
    "#### `tweet_data_archived`: one variable, the type of dog (e.g. `puppo`), spread over four columns\n",
    "\n",
    "##### Define \n",
    "\n",
    "Combine the `doggo`, `floofer`, `pupper`, and `puppo` columns into a single column called `dog_type` before dropping them. All 'None' strings will be converted to NaNs.\n",
    "\n",
    "##### Code"
   ],
   "metadata": {
    "collapsed": false,
    "pycharm": {
     "name": "#%% md\n"
    }
   }
  },
  {
   "cell_type": "code",
   "execution_count": 22,
   "outputs": [],
   "source": [
    "# Replace None strings with empty strings\n",
    "dog_type_cols = ['doggo', 'floofer', 'pupper', 'puppo']\n",
    "tweet_data_archived_clean[dog_type_cols] = tweet_data_archived_clean[dog_type_cols].replace('None', '')\n",
    "\n",
    "# Combine columns and convert empty strings to NaN\n",
    "dog_type_col_data = [tweet_data_archived_clean[col] for col in dog_type_cols]\n",
    "tweet_data_archived_clean['dog_type'] = functools.reduce(lambda col_main, col_add: col_main.str.cat(col_add, ', '), dog_type_col_data)\n",
    "tweet_data_archived_clean['dog_type'] = tweet_data_archived_clean['dog_type'].str.strip(', ')\n",
    "tweet_data_archived_clean['dog_type'] = tweet_data_archived_clean['dog_type'].apply(lambda x: x.replace(', ', '', x.count(',')-1))\n",
    "tweet_data_archived_clean['dog_type'] = tweet_data_archived_clean['dog_type'].replace('', np.nan)\n",
    "\n",
    "# Drop columns\n",
    "tweet_data_archived_clean = tweet_data_archived_clean.drop(columns=dog_type_cols)"
   ],
   "metadata": {
    "collapsed": false,
    "pycharm": {
     "name": "#%%\n"
    }
   }
  },
  {
   "cell_type": "markdown",
   "source": [
    "##### Test"
   ],
   "metadata": {
    "collapsed": false,
    "pycharm": {
     "name": "#%% md\n"
    }
   }
  },
  {
   "cell_type": "code",
   "execution_count": 23,
   "outputs": [
    {
     "name": "stdout",
     "output_type": "stream",
     "text": [
      "<class 'pandas.core.frame.DataFrame'>\n",
      "RangeIndex: 2356 entries, 0 to 2355\n",
      "Data columns (total 14 columns):\n",
      " #   Column                      Non-Null Count  Dtype  \n",
      "---  ------                      --------------  -----  \n",
      " 0   tweet_id                    2356 non-null   int64  \n",
      " 1   in_reply_to_status_id       78 non-null     float64\n",
      " 2   in_reply_to_user_id         78 non-null     float64\n",
      " 3   timestamp                   2356 non-null   object \n",
      " 4   source                      2356 non-null   object \n",
      " 5   text                        2356 non-null   object \n",
      " 6   retweeted_status_id         181 non-null    float64\n",
      " 7   retweeted_status_user_id    181 non-null    float64\n",
      " 8   retweeted_status_timestamp  181 non-null    object \n",
      " 9   expanded_urls               2297 non-null   object \n",
      " 10  rating_numerator            2356 non-null   int64  \n",
      " 11  rating_denominator          2356 non-null   int64  \n",
      " 12  name                        2356 non-null   object \n",
      " 13  dog_type                    380 non-null    object \n",
      "dtypes: float64(4), int64(3), object(7)\n",
      "memory usage: 257.8+ KB\n"
     ]
    }
   ],
   "source": [
    "# Check columns and datatype\n",
    "tweet_data_archived_clean.info()"
   ],
   "metadata": {
    "collapsed": false,
    "pycharm": {
     "name": "#%%\n"
    }
   }
  },
  {
   "cell_type": "code",
   "execution_count": 24,
   "outputs": [
    {
     "data": {
      "text/plain": "pupper            245\ndoggo              83\npuppo              29\ndoggo, pupper      12\nfloofer             9\ndoggo, puppo        1\ndoggo, floofer      1\nName: dog_type, dtype: int64"
     },
     "execution_count": 24,
     "metadata": {},
     "output_type": "execute_result"
    }
   ],
   "source": [
    "# Check that dog_type column contains correct values\n",
    "tweet_data_archived_clean.dog_type.value_counts()"
   ],
   "metadata": {
    "collapsed": false,
    "pycharm": {
     "name": "#%%\n"
    }
   }
  },
  {
   "cell_type": "markdown",
   "source": [
    "#### `tweet_data_extra`: `retweet_count` and `favorite_count` should be part of `tweet_data_archived`\n",
    "\n",
    "##### Define\n",
    "\n",
    "Merge `tweet_data_archived` and `tweet_data_extra` on `tweet_id` column.\n",
    "\n",
    "##### Code"
   ],
   "metadata": {
    "collapsed": false,
    "pycharm": {
     "name": "#%% md\n"
    }
   }
  },
  {
   "cell_type": "code",
   "execution_count": 25,
   "outputs": [],
   "source": [
    "tweet_data_archived_clean = pd.merge(tweet_data_archived_clean,\n",
    "                                     tweet_data_extra_clean,\n",
    "                                     how='left',\n",
    "                                     on='tweet_id')"
   ],
   "metadata": {
    "collapsed": false,
    "pycharm": {
     "name": "#%%\n"
    }
   }
  },
  {
   "cell_type": "markdown",
   "source": [
    "##### Test"
   ],
   "metadata": {
    "collapsed": false,
    "pycharm": {
     "name": "#%% md\n"
    }
   }
  },
  {
   "cell_type": "code",
   "execution_count": 26,
   "outputs": [
    {
     "data": {
      "text/plain": "             tweet_id  in_reply_to_status_id  in_reply_to_user_id  \\\n0  892420643555336193                    NaN                  NaN   \n1  892177421306343426                    NaN                  NaN   \n2  891815181378084864                    NaN                  NaN   \n3  891689557279858688                    NaN                  NaN   \n4  891327558926688256                    NaN                  NaN   \n\n                   timestamp  \\\n0  2017-08-01 16:23:56 +0000   \n1  2017-08-01 00:17:27 +0000   \n2  2017-07-31 00:18:03 +0000   \n3  2017-07-30 15:58:51 +0000   \n4  2017-07-29 16:00:24 +0000   \n\n                                              source  \\\n0  <a href=\"http://twitter.com/download/iphone\" r...   \n1  <a href=\"http://twitter.com/download/iphone\" r...   \n2  <a href=\"http://twitter.com/download/iphone\" r...   \n3  <a href=\"http://twitter.com/download/iphone\" r...   \n4  <a href=\"http://twitter.com/download/iphone\" r...   \n\n                                                text  retweeted_status_id  \\\n0  This is Phineas. He's a mystical boy. Only eve...                  NaN   \n1  This is Tilly. She's just checking pup on you....                  NaN   \n2  This is Archie. He is a rare Norwegian Pouncin...                  NaN   \n3  This is Darla. She commenced a snooze mid meal...                  NaN   \n4  This is Franklin. He would like you to stop ca...                  NaN   \n\n   retweeted_status_user_id retweeted_status_timestamp  \\\n0                       NaN                        NaN   \n1                       NaN                        NaN   \n2                       NaN                        NaN   \n3                       NaN                        NaN   \n4                       NaN                        NaN   \n\n                                       expanded_urls  rating_numerator  \\\n0  https://twitter.com/dog_rates/status/892420643...                13   \n1  https://twitter.com/dog_rates/status/892177421...                13   \n2  https://twitter.com/dog_rates/status/891815181...                12   \n3  https://twitter.com/dog_rates/status/891689557...                13   \n4  https://twitter.com/dog_rates/status/891327558...                12   \n\n   rating_denominator      name dog_type  retweet_count  favorite_count  \\\n0                  10   Phineas      NaN         7001.0         33804.0   \n1                  10     Tilly      NaN         5299.0         29315.0   \n2                  10    Archie      NaN         3477.0         22041.0   \n3                  10     Darla      NaN         7223.0         36922.0   \n4                  10  Franklin      NaN         7754.0         35300.0   \n\n                      create_date  \n0  Tue Aug 01 16:23:56 +0000 2017  \n1  Tue Aug 01 00:17:27 +0000 2017  \n2  Mon Jul 31 00:18:03 +0000 2017  \n3  Sun Jul 30 15:58:51 +0000 2017  \n4  Sat Jul 29 16:00:24 +0000 2017  ",
      "text/html": "<div>\n<style scoped>\n    .dataframe tbody tr th:only-of-type {\n        vertical-align: middle;\n    }\n\n    .dataframe tbody tr th {\n        vertical-align: top;\n    }\n\n    .dataframe thead th {\n        text-align: right;\n    }\n</style>\n<table border=\"1\" class=\"dataframe\">\n  <thead>\n    <tr style=\"text-align: right;\">\n      <th></th>\n      <th>tweet_id</th>\n      <th>in_reply_to_status_id</th>\n      <th>in_reply_to_user_id</th>\n      <th>timestamp</th>\n      <th>source</th>\n      <th>text</th>\n      <th>retweeted_status_id</th>\n      <th>retweeted_status_user_id</th>\n      <th>retweeted_status_timestamp</th>\n      <th>expanded_urls</th>\n      <th>rating_numerator</th>\n      <th>rating_denominator</th>\n      <th>name</th>\n      <th>dog_type</th>\n      <th>retweet_count</th>\n      <th>favorite_count</th>\n      <th>create_date</th>\n    </tr>\n  </thead>\n  <tbody>\n    <tr>\n      <th>0</th>\n      <td>892420643555336193</td>\n      <td>NaN</td>\n      <td>NaN</td>\n      <td>2017-08-01 16:23:56 +0000</td>\n      <td>&lt;a href=\"http://twitter.com/download/iphone\" r...</td>\n      <td>This is Phineas. He's a mystical boy. Only eve...</td>\n      <td>NaN</td>\n      <td>NaN</td>\n      <td>NaN</td>\n      <td>https://twitter.com/dog_rates/status/892420643...</td>\n      <td>13</td>\n      <td>10</td>\n      <td>Phineas</td>\n      <td>NaN</td>\n      <td>7001.0</td>\n      <td>33804.0</td>\n      <td>Tue Aug 01 16:23:56 +0000 2017</td>\n    </tr>\n    <tr>\n      <th>1</th>\n      <td>892177421306343426</td>\n      <td>NaN</td>\n      <td>NaN</td>\n      <td>2017-08-01 00:17:27 +0000</td>\n      <td>&lt;a href=\"http://twitter.com/download/iphone\" r...</td>\n      <td>This is Tilly. She's just checking pup on you....</td>\n      <td>NaN</td>\n      <td>NaN</td>\n      <td>NaN</td>\n      <td>https://twitter.com/dog_rates/status/892177421...</td>\n      <td>13</td>\n      <td>10</td>\n      <td>Tilly</td>\n      <td>NaN</td>\n      <td>5299.0</td>\n      <td>29315.0</td>\n      <td>Tue Aug 01 00:17:27 +0000 2017</td>\n    </tr>\n    <tr>\n      <th>2</th>\n      <td>891815181378084864</td>\n      <td>NaN</td>\n      <td>NaN</td>\n      <td>2017-07-31 00:18:03 +0000</td>\n      <td>&lt;a href=\"http://twitter.com/download/iphone\" r...</td>\n      <td>This is Archie. He is a rare Norwegian Pouncin...</td>\n      <td>NaN</td>\n      <td>NaN</td>\n      <td>NaN</td>\n      <td>https://twitter.com/dog_rates/status/891815181...</td>\n      <td>12</td>\n      <td>10</td>\n      <td>Archie</td>\n      <td>NaN</td>\n      <td>3477.0</td>\n      <td>22041.0</td>\n      <td>Mon Jul 31 00:18:03 +0000 2017</td>\n    </tr>\n    <tr>\n      <th>3</th>\n      <td>891689557279858688</td>\n      <td>NaN</td>\n      <td>NaN</td>\n      <td>2017-07-30 15:58:51 +0000</td>\n      <td>&lt;a href=\"http://twitter.com/download/iphone\" r...</td>\n      <td>This is Darla. She commenced a snooze mid meal...</td>\n      <td>NaN</td>\n      <td>NaN</td>\n      <td>NaN</td>\n      <td>https://twitter.com/dog_rates/status/891689557...</td>\n      <td>13</td>\n      <td>10</td>\n      <td>Darla</td>\n      <td>NaN</td>\n      <td>7223.0</td>\n      <td>36922.0</td>\n      <td>Sun Jul 30 15:58:51 +0000 2017</td>\n    </tr>\n    <tr>\n      <th>4</th>\n      <td>891327558926688256</td>\n      <td>NaN</td>\n      <td>NaN</td>\n      <td>2017-07-29 16:00:24 +0000</td>\n      <td>&lt;a href=\"http://twitter.com/download/iphone\" r...</td>\n      <td>This is Franklin. He would like you to stop ca...</td>\n      <td>NaN</td>\n      <td>NaN</td>\n      <td>NaN</td>\n      <td>https://twitter.com/dog_rates/status/891327558...</td>\n      <td>12</td>\n      <td>10</td>\n      <td>Franklin</td>\n      <td>NaN</td>\n      <td>7754.0</td>\n      <td>35300.0</td>\n      <td>Sat Jul 29 16:00:24 +0000 2017</td>\n    </tr>\n  </tbody>\n</table>\n</div>"
     },
     "execution_count": 26,
     "metadata": {},
     "output_type": "execute_result"
    }
   ],
   "source": [
    "tweet_data_archived_clean.head()"
   ],
   "metadata": {
    "collapsed": false,
    "pycharm": {
     "name": "#%%\n"
    }
   }
  },
  {
   "cell_type": "markdown",
   "source": [
    "#### `tweet_image_pred`: correct predictions should be combined with `tweet_data_archived`\n",
    "\n",
    "##### Define\n",
    "\n",
    "Extract the correct predictions from each prediction variable in such a way as to prefer the first prediction and combine these predictions with `tweet_data_archived`.\n",
    "\n",
    "##### Code"
   ],
   "metadata": {
    "collapsed": false,
    "pycharm": {
     "name": "#%% md\n"
    }
   }
  },
  {
   "cell_type": "code",
   "execution_count": 27,
   "outputs": [],
   "source": [
    "# Extract  correct predictions\n",
    "image_pred_cols = images_clean.columns.tolist()\n",
    "pred_col_pairs = [[image_pred_cols[i], image_pred_cols[i+2]] for i in\n",
    "                  range(3, len(image_pred_cols), 3)]\n",
    "\n",
    "dog_breeds_partial = []\n",
    "for pred_col_pair in pred_col_pairs:\n",
    "    p, p_dog = pred_col_pair\n",
    "    tmp_pred = images_clean.loc[images_clean[p_dog] == True, ['tweet_id', p]]\n",
    "    dog_breeds_partial.append(tmp_pred.rename(columns={p: 'dog_breed'}))\n",
    "dog_breeds = pd.concat(dog_breeds_partial, ignore_index=True, sort=True)\n",
    "\n",
    "# Combine correct predictions with tweet_data_archived\n",
    "dog_breeds.drop_duplicates('tweet_id', inplace=True)\n",
    "tweet_data_archived_clean = pd.merge(tweet_data_archived_clean, dog_breeds, on='tweet_id', how='left')"
   ],
   "metadata": {
    "collapsed": false,
    "pycharm": {
     "name": "#%%\n"
    }
   }
  },
  {
   "cell_type": "markdown",
   "source": [
    "##### Test"
   ],
   "metadata": {
    "collapsed": false,
    "pycharm": {
     "name": "#%% md\n"
    }
   }
  },
  {
   "cell_type": "code",
   "execution_count": 28,
   "outputs": [
    {
     "data": {
      "text/plain": "             tweet_id  in_reply_to_status_id  in_reply_to_user_id  \\\n0  892420643555336193                    NaN                  NaN   \n1  892177421306343426                    NaN                  NaN   \n2  891815181378084864                    NaN                  NaN   \n3  891689557279858688                    NaN                  NaN   \n4  891327558926688256                    NaN                  NaN   \n\n                   timestamp  \\\n0  2017-08-01 16:23:56 +0000   \n1  2017-08-01 00:17:27 +0000   \n2  2017-07-31 00:18:03 +0000   \n3  2017-07-30 15:58:51 +0000   \n4  2017-07-29 16:00:24 +0000   \n\n                                              source  \\\n0  <a href=\"http://twitter.com/download/iphone\" r...   \n1  <a href=\"http://twitter.com/download/iphone\" r...   \n2  <a href=\"http://twitter.com/download/iphone\" r...   \n3  <a href=\"http://twitter.com/download/iphone\" r...   \n4  <a href=\"http://twitter.com/download/iphone\" r...   \n\n                                                text  retweeted_status_id  \\\n0  This is Phineas. He's a mystical boy. Only eve...                  NaN   \n1  This is Tilly. She's just checking pup on you....                  NaN   \n2  This is Archie. He is a rare Norwegian Pouncin...                  NaN   \n3  This is Darla. She commenced a snooze mid meal...                  NaN   \n4  This is Franklin. He would like you to stop ca...                  NaN   \n\n   retweeted_status_user_id retweeted_status_timestamp  \\\n0                       NaN                        NaN   \n1                       NaN                        NaN   \n2                       NaN                        NaN   \n3                       NaN                        NaN   \n4                       NaN                        NaN   \n\n                                       expanded_urls  rating_numerator  \\\n0  https://twitter.com/dog_rates/status/892420643...                13   \n1  https://twitter.com/dog_rates/status/892177421...                13   \n2  https://twitter.com/dog_rates/status/891815181...                12   \n3  https://twitter.com/dog_rates/status/891689557...                13   \n4  https://twitter.com/dog_rates/status/891327558...                12   \n\n   rating_denominator      name dog_type  retweet_count  favorite_count  \\\n0                  10   Phineas      NaN         7001.0         33804.0   \n1                  10     Tilly      NaN         5299.0         29315.0   \n2                  10    Archie      NaN         3477.0         22041.0   \n3                  10     Darla      NaN         7223.0         36922.0   \n4                  10  Franklin      NaN         7754.0         35300.0   \n\n                      create_date           dog_breed  \n0  Tue Aug 01 16:23:56 +0000 2017                 NaN  \n1  Tue Aug 01 00:17:27 +0000 2017           Chihuahua  \n2  Mon Jul 31 00:18:03 +0000 2017           Chihuahua  \n3  Sun Jul 30 15:58:51 +0000 2017  Labrador_retriever  \n4  Sat Jul 29 16:00:24 +0000 2017              basset  ",
      "text/html": "<div>\n<style scoped>\n    .dataframe tbody tr th:only-of-type {\n        vertical-align: middle;\n    }\n\n    .dataframe tbody tr th {\n        vertical-align: top;\n    }\n\n    .dataframe thead th {\n        text-align: right;\n    }\n</style>\n<table border=\"1\" class=\"dataframe\">\n  <thead>\n    <tr style=\"text-align: right;\">\n      <th></th>\n      <th>tweet_id</th>\n      <th>in_reply_to_status_id</th>\n      <th>in_reply_to_user_id</th>\n      <th>timestamp</th>\n      <th>source</th>\n      <th>text</th>\n      <th>retweeted_status_id</th>\n      <th>retweeted_status_user_id</th>\n      <th>retweeted_status_timestamp</th>\n      <th>expanded_urls</th>\n      <th>rating_numerator</th>\n      <th>rating_denominator</th>\n      <th>name</th>\n      <th>dog_type</th>\n      <th>retweet_count</th>\n      <th>favorite_count</th>\n      <th>create_date</th>\n      <th>dog_breed</th>\n    </tr>\n  </thead>\n  <tbody>\n    <tr>\n      <th>0</th>\n      <td>892420643555336193</td>\n      <td>NaN</td>\n      <td>NaN</td>\n      <td>2017-08-01 16:23:56 +0000</td>\n      <td>&lt;a href=\"http://twitter.com/download/iphone\" r...</td>\n      <td>This is Phineas. He's a mystical boy. Only eve...</td>\n      <td>NaN</td>\n      <td>NaN</td>\n      <td>NaN</td>\n      <td>https://twitter.com/dog_rates/status/892420643...</td>\n      <td>13</td>\n      <td>10</td>\n      <td>Phineas</td>\n      <td>NaN</td>\n      <td>7001.0</td>\n      <td>33804.0</td>\n      <td>Tue Aug 01 16:23:56 +0000 2017</td>\n      <td>NaN</td>\n    </tr>\n    <tr>\n      <th>1</th>\n      <td>892177421306343426</td>\n      <td>NaN</td>\n      <td>NaN</td>\n      <td>2017-08-01 00:17:27 +0000</td>\n      <td>&lt;a href=\"http://twitter.com/download/iphone\" r...</td>\n      <td>This is Tilly. She's just checking pup on you....</td>\n      <td>NaN</td>\n      <td>NaN</td>\n      <td>NaN</td>\n      <td>https://twitter.com/dog_rates/status/892177421...</td>\n      <td>13</td>\n      <td>10</td>\n      <td>Tilly</td>\n      <td>NaN</td>\n      <td>5299.0</td>\n      <td>29315.0</td>\n      <td>Tue Aug 01 00:17:27 +0000 2017</td>\n      <td>Chihuahua</td>\n    </tr>\n    <tr>\n      <th>2</th>\n      <td>891815181378084864</td>\n      <td>NaN</td>\n      <td>NaN</td>\n      <td>2017-07-31 00:18:03 +0000</td>\n      <td>&lt;a href=\"http://twitter.com/download/iphone\" r...</td>\n      <td>This is Archie. He is a rare Norwegian Pouncin...</td>\n      <td>NaN</td>\n      <td>NaN</td>\n      <td>NaN</td>\n      <td>https://twitter.com/dog_rates/status/891815181...</td>\n      <td>12</td>\n      <td>10</td>\n      <td>Archie</td>\n      <td>NaN</td>\n      <td>3477.0</td>\n      <td>22041.0</td>\n      <td>Mon Jul 31 00:18:03 +0000 2017</td>\n      <td>Chihuahua</td>\n    </tr>\n    <tr>\n      <th>3</th>\n      <td>891689557279858688</td>\n      <td>NaN</td>\n      <td>NaN</td>\n      <td>2017-07-30 15:58:51 +0000</td>\n      <td>&lt;a href=\"http://twitter.com/download/iphone\" r...</td>\n      <td>This is Darla. She commenced a snooze mid meal...</td>\n      <td>NaN</td>\n      <td>NaN</td>\n      <td>NaN</td>\n      <td>https://twitter.com/dog_rates/status/891689557...</td>\n      <td>13</td>\n      <td>10</td>\n      <td>Darla</td>\n      <td>NaN</td>\n      <td>7223.0</td>\n      <td>36922.0</td>\n      <td>Sun Jul 30 15:58:51 +0000 2017</td>\n      <td>Labrador_retriever</td>\n    </tr>\n    <tr>\n      <th>4</th>\n      <td>891327558926688256</td>\n      <td>NaN</td>\n      <td>NaN</td>\n      <td>2017-07-29 16:00:24 +0000</td>\n      <td>&lt;a href=\"http://twitter.com/download/iphone\" r...</td>\n      <td>This is Franklin. He would like you to stop ca...</td>\n      <td>NaN</td>\n      <td>NaN</td>\n      <td>NaN</td>\n      <td>https://twitter.com/dog_rates/status/891327558...</td>\n      <td>12</td>\n      <td>10</td>\n      <td>Franklin</td>\n      <td>NaN</td>\n      <td>7754.0</td>\n      <td>35300.0</td>\n      <td>Sat Jul 29 16:00:24 +0000 2017</td>\n      <td>basset</td>\n    </tr>\n  </tbody>\n</table>\n</div>"
     },
     "execution_count": 28,
     "metadata": {},
     "output_type": "execute_result"
    }
   ],
   "source": [
    "tweet_data_archived_clean.head()"
   ],
   "metadata": {
    "collapsed": false,
    "pycharm": {
     "name": "#%%\n"
    }
   }
  },
  {
   "cell_type": "markdown",
   "source": [
    "### Quality\n",
    "\n",
    "#### `tweet_data_archived_clean`: erroneous datatypes (`*_id`, `*timestamp`)\n",
    "\n",
    "##### Define\n",
    "\n",
    "Convert each of the ID columns into strings and convert the timestamp columns into datetime.\n",
    "\n",
    "##### Code"
   ],
   "metadata": {
    "collapsed": false,
    "pycharm": {
     "name": "#%% md\n"
    }
   }
  },
  {
   "cell_type": "code",
   "execution_count": 29,
   "outputs": [],
   "source": [
    "# Change id columns to string\n",
    "id_col_names = [t_id for t_id in tweet_data_archived_clean.columns.tolist() if 'id' in t_id]\n",
    "for id_col_name in id_col_names:\n",
    "    if tweet_data_archived_clean[id_col_name].dtype == 'float64':\n",
    "        tweet_data_archived_clean[id_col_name] = tweet_data_archived_clean[id_col_name].fillna(0)\n",
    "        tweet_data_archived_clean[id_col_name] = tweet_data_archived_clean[id_col_name].astype(int)\n",
    "    tweet_data_archived_clean[id_col_name] = tweet_data_archived_clean[id_col_name].astype(str)\n",
    "    tweet_data_archived_clean[id_col_name] = tweet_data_archived_clean[id_col_name].replace('0', np.nan)\n",
    "\n",
    "# Change timestamp columns to datetime\n",
    "ts_col_names = [t_ts for t_ts in tweet_data_archived_clean.columns.tolist() if 'timestamp' in t_ts]\n",
    "for ts_col_name in ts_col_names:\n",
    "    tweet_data_archived_clean[ts_col_name] = pd.to_datetime(tweet_data_archived_clean[ts_col_name])"
   ],
   "metadata": {
    "collapsed": false,
    "pycharm": {
     "name": "#%%\n"
    }
   }
  },
  {
   "cell_type": "markdown",
   "source": [
    "##### Test"
   ],
   "metadata": {
    "collapsed": false,
    "pycharm": {
     "name": "#%% md\n"
    }
   }
  },
  {
   "cell_type": "code",
   "execution_count": 30,
   "outputs": [
    {
     "name": "stdout",
     "output_type": "stream",
     "text": [
      "<class 'pandas.core.frame.DataFrame'>\n",
      "Int64Index: 2356 entries, 0 to 2355\n",
      "Data columns (total 18 columns):\n",
      " #   Column                      Non-Null Count  Dtype              \n",
      "---  ------                      --------------  -----              \n",
      " 0   tweet_id                    2356 non-null   object             \n",
      " 1   in_reply_to_status_id       78 non-null     object             \n",
      " 2   in_reply_to_user_id         78 non-null     object             \n",
      " 3   timestamp                   2356 non-null   datetime64[ns, UTC]\n",
      " 4   source                      2356 non-null   object             \n",
      " 5   text                        2356 non-null   object             \n",
      " 6   retweeted_status_id         181 non-null    object             \n",
      " 7   retweeted_status_user_id    181 non-null    object             \n",
      " 8   retweeted_status_timestamp  181 non-null    datetime64[ns, UTC]\n",
      " 9   expanded_urls               2297 non-null   object             \n",
      " 10  rating_numerator            2356 non-null   int64              \n",
      " 11  rating_denominator          2356 non-null   int64              \n",
      " 12  name                        2356 non-null   object             \n",
      " 13  dog_type                    380 non-null    object             \n",
      " 14  retweet_count               2327 non-null   float64            \n",
      " 15  favorite_count              2327 non-null   float64            \n",
      " 16  create_date                 2327 non-null   object             \n",
      " 17  dog_breed                   1751 non-null   object             \n",
      "dtypes: datetime64[ns, UTC](2), float64(2), int64(2), object(12)\n",
      "memory usage: 349.7+ KB\n"
     ]
    }
   ],
   "source": [
    "tweet_data_archived_clean.info()"
   ],
   "metadata": {
    "collapsed": false,
    "pycharm": {
     "name": "#%%\n"
    }
   }
  },
  {
   "cell_type": "markdown",
   "source": [
    "#### `tweet_data_archived` contains retweets\n",
    "\n",
    "##### Define\n",
    "\n",
    "Remove all rows where `retweeted_status_id`. This will also take care of `retweeted_status_user_id` and `retweeted_status_timestamp` as both of these columns have values in the same rows as `retweeted_status_id`. Afterwards, reset the index.\n",
    "\n",
    "##### Code"
   ],
   "metadata": {
    "collapsed": false,
    "pycharm": {
     "name": "#%% md\n"
    }
   }
  },
  {
   "cell_type": "code",
   "execution_count": 31,
   "outputs": [],
   "source": [
    "retweeted_cols = ['retweeted_status_id', 'retweeted_status_user_id', 'retweeted_status_timestamp']\n",
    "retweeted_mask = tweet_data_archived_clean.retweeted_status_id.notnull()\n",
    "\n",
    "tweet_data_archived_clean = tweet_data_archived_clean[~retweeted_mask]\n",
    "tweet_data_archived_retweet_test = tweet_data_archived_clean.copy() # For testing\n",
    "tweet_data_archived_clean.drop(columns=retweeted_cols, inplace=True)\n",
    "tweet_data_archived_clean.reset_index(drop=True, inplace=True)"
   ],
   "metadata": {
    "collapsed": false,
    "pycharm": {
     "name": "#%%\n"
    }
   }
  },
  {
   "cell_type": "markdown",
   "source": [
    "##### Test"
   ],
   "metadata": {
    "collapsed": false,
    "pycharm": {
     "name": "#%% md\n"
    }
   }
  },
  {
   "cell_type": "code",
   "execution_count": 32,
   "outputs": [
    {
     "data": {
      "text/plain": "0"
     },
     "execution_count": 32,
     "metadata": {},
     "output_type": "execute_result"
    }
   ],
   "source": [
    "# Make sure we deleted all retweets\n",
    "tweet_data_archived_retweet_test.retweeted_status_id.notnull().sum()"
   ],
   "metadata": {
    "collapsed": false,
    "pycharm": {
     "name": "#%%\n"
    }
   }
  },
  {
   "cell_type": "code",
   "execution_count": 33,
   "outputs": [
    {
     "data": {
      "text/plain": "             tweet_id in_reply_to_status_id in_reply_to_user_id  \\\n0  892420643555336193                   NaN                 NaN   \n1  892177421306343426                   NaN                 NaN   \n2  891815181378084864                   NaN                 NaN   \n3  891689557279858688                   NaN                 NaN   \n4  891327558926688256                   NaN                 NaN   \n\n                  timestamp  \\\n0 2017-08-01 16:23:56+00:00   \n1 2017-08-01 00:17:27+00:00   \n2 2017-07-31 00:18:03+00:00   \n3 2017-07-30 15:58:51+00:00   \n4 2017-07-29 16:00:24+00:00   \n\n                                              source  \\\n0  <a href=\"http://twitter.com/download/iphone\" r...   \n1  <a href=\"http://twitter.com/download/iphone\" r...   \n2  <a href=\"http://twitter.com/download/iphone\" r...   \n3  <a href=\"http://twitter.com/download/iphone\" r...   \n4  <a href=\"http://twitter.com/download/iphone\" r...   \n\n                                                text  \\\n0  This is Phineas. He's a mystical boy. Only eve...   \n1  This is Tilly. She's just checking pup on you....   \n2  This is Archie. He is a rare Norwegian Pouncin...   \n3  This is Darla. She commenced a snooze mid meal...   \n4  This is Franklin. He would like you to stop ca...   \n\n                                       expanded_urls  rating_numerator  \\\n0  https://twitter.com/dog_rates/status/892420643...                13   \n1  https://twitter.com/dog_rates/status/892177421...                13   \n2  https://twitter.com/dog_rates/status/891815181...                12   \n3  https://twitter.com/dog_rates/status/891689557...                13   \n4  https://twitter.com/dog_rates/status/891327558...                12   \n\n   rating_denominator      name dog_type  retweet_count  favorite_count  \\\n0                  10   Phineas      NaN         7001.0         33804.0   \n1                  10     Tilly      NaN         5299.0         29315.0   \n2                  10    Archie      NaN         3477.0         22041.0   \n3                  10     Darla      NaN         7223.0         36922.0   \n4                  10  Franklin      NaN         7754.0         35300.0   \n\n                      create_date           dog_breed  \n0  Tue Aug 01 16:23:56 +0000 2017                 NaN  \n1  Tue Aug 01 00:17:27 +0000 2017           Chihuahua  \n2  Mon Jul 31 00:18:03 +0000 2017           Chihuahua  \n3  Sun Jul 30 15:58:51 +0000 2017  Labrador_retriever  \n4  Sat Jul 29 16:00:24 +0000 2017              basset  ",
      "text/html": "<div>\n<style scoped>\n    .dataframe tbody tr th:only-of-type {\n        vertical-align: middle;\n    }\n\n    .dataframe tbody tr th {\n        vertical-align: top;\n    }\n\n    .dataframe thead th {\n        text-align: right;\n    }\n</style>\n<table border=\"1\" class=\"dataframe\">\n  <thead>\n    <tr style=\"text-align: right;\">\n      <th></th>\n      <th>tweet_id</th>\n      <th>in_reply_to_status_id</th>\n      <th>in_reply_to_user_id</th>\n      <th>timestamp</th>\n      <th>source</th>\n      <th>text</th>\n      <th>expanded_urls</th>\n      <th>rating_numerator</th>\n      <th>rating_denominator</th>\n      <th>name</th>\n      <th>dog_type</th>\n      <th>retweet_count</th>\n      <th>favorite_count</th>\n      <th>create_date</th>\n      <th>dog_breed</th>\n    </tr>\n  </thead>\n  <tbody>\n    <tr>\n      <th>0</th>\n      <td>892420643555336193</td>\n      <td>NaN</td>\n      <td>NaN</td>\n      <td>2017-08-01 16:23:56+00:00</td>\n      <td>&lt;a href=\"http://twitter.com/download/iphone\" r...</td>\n      <td>This is Phineas. He's a mystical boy. Only eve...</td>\n      <td>https://twitter.com/dog_rates/status/892420643...</td>\n      <td>13</td>\n      <td>10</td>\n      <td>Phineas</td>\n      <td>NaN</td>\n      <td>7001.0</td>\n      <td>33804.0</td>\n      <td>Tue Aug 01 16:23:56 +0000 2017</td>\n      <td>NaN</td>\n    </tr>\n    <tr>\n      <th>1</th>\n      <td>892177421306343426</td>\n      <td>NaN</td>\n      <td>NaN</td>\n      <td>2017-08-01 00:17:27+00:00</td>\n      <td>&lt;a href=\"http://twitter.com/download/iphone\" r...</td>\n      <td>This is Tilly. She's just checking pup on you....</td>\n      <td>https://twitter.com/dog_rates/status/892177421...</td>\n      <td>13</td>\n      <td>10</td>\n      <td>Tilly</td>\n      <td>NaN</td>\n      <td>5299.0</td>\n      <td>29315.0</td>\n      <td>Tue Aug 01 00:17:27 +0000 2017</td>\n      <td>Chihuahua</td>\n    </tr>\n    <tr>\n      <th>2</th>\n      <td>891815181378084864</td>\n      <td>NaN</td>\n      <td>NaN</td>\n      <td>2017-07-31 00:18:03+00:00</td>\n      <td>&lt;a href=\"http://twitter.com/download/iphone\" r...</td>\n      <td>This is Archie. He is a rare Norwegian Pouncin...</td>\n      <td>https://twitter.com/dog_rates/status/891815181...</td>\n      <td>12</td>\n      <td>10</td>\n      <td>Archie</td>\n      <td>NaN</td>\n      <td>3477.0</td>\n      <td>22041.0</td>\n      <td>Mon Jul 31 00:18:03 +0000 2017</td>\n      <td>Chihuahua</td>\n    </tr>\n    <tr>\n      <th>3</th>\n      <td>891689557279858688</td>\n      <td>NaN</td>\n      <td>NaN</td>\n      <td>2017-07-30 15:58:51+00:00</td>\n      <td>&lt;a href=\"http://twitter.com/download/iphone\" r...</td>\n      <td>This is Darla. She commenced a snooze mid meal...</td>\n      <td>https://twitter.com/dog_rates/status/891689557...</td>\n      <td>13</td>\n      <td>10</td>\n      <td>Darla</td>\n      <td>NaN</td>\n      <td>7223.0</td>\n      <td>36922.0</td>\n      <td>Sun Jul 30 15:58:51 +0000 2017</td>\n      <td>Labrador_retriever</td>\n    </tr>\n    <tr>\n      <th>4</th>\n      <td>891327558926688256</td>\n      <td>NaN</td>\n      <td>NaN</td>\n      <td>2017-07-29 16:00:24+00:00</td>\n      <td>&lt;a href=\"http://twitter.com/download/iphone\" r...</td>\n      <td>This is Franklin. He would like you to stop ca...</td>\n      <td>https://twitter.com/dog_rates/status/891327558...</td>\n      <td>12</td>\n      <td>10</td>\n      <td>Franklin</td>\n      <td>NaN</td>\n      <td>7754.0</td>\n      <td>35300.0</td>\n      <td>Sat Jul 29 16:00:24 +0000 2017</td>\n      <td>basset</td>\n    </tr>\n  </tbody>\n</table>\n</div>"
     },
     "execution_count": 33,
     "metadata": {},
     "output_type": "execute_result"
    }
   ],
   "source": [
    "# Make sure we removed all retweet columns\n",
    "tweet_data_archived_clean.head()"
   ],
   "metadata": {
    "collapsed": false,
    "pycharm": {
     "name": "#%%\n"
    }
   }
  },
  {
   "cell_type": "markdown",
   "source": [
    "#### `tweet_data_archived`: `name` column contains words that are clearly not names\n",
    "\n",
    "##### Define\n",
    "\n",
    "Search for lowercase words in `name` column. In these rows extract the name of the dog by searching for the word 'name' and the string 'That is' in the text column. Replace the word with the names of the dogs. For the other rows without dog names set the word to NaN.\n",
    "\n",
    "##### Code"
   ],
   "metadata": {
    "collapsed": false,
    "pycharm": {
     "name": "#%% md\n"
    }
   }
  },
  {
   "cell_type": "code",
   "execution_count": 34,
   "outputs": [],
   "source": [
    "# Get names by using a pattern with 'name'\n",
    "new_names_n = (tweet_data_archived_clean.text\n",
    "                  .str.extract('name(?:d| is) (?P<real_name>[A-Z].*?)(?:\\s|\\.)'))\n",
    "\n",
    "# Get names by using a pattern with 'That is'\n",
    "new_names_t = (tweet_data_archived_clean.text\n",
    "                  .str.extract('That is (?P<real_name>.*?)\\.'))\n",
    "                  \n",
    "# Replace all strings with lowercase words with NaN\n",
    "names_nan_mask = tweet_data_archived_clean.name.str.contains('^[a-z]')\n",
    "tweet_data_archived_clean.loc[names_nan_mask, 'name'] = np.nan\n",
    "                  \n",
    "# Combine new names columns with existing names column\n",
    "tweet_data_archived_clean['name'] = functools.reduce(lambda c_main, c_add: c_main.combine_first(c_add),\n",
    "                                                     [tweet_data_archived_clean['name'],\n",
    "                                                      new_names_n['real_name'],\n",
    "                                                      new_names_t['real_name']])"
   ],
   "metadata": {
    "collapsed": false,
    "pycharm": {
     "name": "#%%\n"
    }
   }
  },
  {
   "cell_type": "markdown",
   "source": [
    "##### Test"
   ],
   "metadata": {
    "collapsed": false,
    "pycharm": {
     "name": "#%% md\n"
    }
   }
  },
  {
   "cell_type": "code",
   "execution_count": 35,
   "outputs": [
    {
     "data": {
      "text/plain": "21      NaN\n53      NaN\n147     NaN\n167     NaN\n282     NaN\n       ... \n2168    NaN\n2169    NaN\n2171    NaN\n2172    NaN\n2173    NaN\nName: name, Length: 104, dtype: object"
     },
     "execution_count": 35,
     "metadata": {},
     "output_type": "execute_result"
    }
   ],
   "source": [
    "tweet_data_archived_clean.loc[names_nan_mask, 'name']"
   ],
   "metadata": {
    "collapsed": false,
    "pycharm": {
     "name": "#%%\n"
    }
   }
  },
  {
   "cell_type": "markdown",
   "source": [
    "#### `tweet_data_archived`: missing data in `name` encoded as the string 'None'\n",
    "\n",
    "##### Define\n",
    "\n",
    "Replace all instances of the string 'None' with NaN.\n",
    "\n",
    "##### Code"
   ],
   "metadata": {
    "collapsed": false,
    "pycharm": {
     "name": "#%% md\n"
    }
   }
  },
  {
   "cell_type": "code",
   "execution_count": 36,
   "outputs": [],
   "source": [
    "tweet_data_archived_clean.name = tweet_data_archived_clean.name.replace('None', np.nan)"
   ],
   "metadata": {
    "collapsed": false,
    "pycharm": {
     "name": "#%%\n"
    }
   }
  },
  {
   "cell_type": "markdown",
   "source": [
    "##### Test"
   ],
   "metadata": {
    "collapsed": false,
    "pycharm": {
     "name": "#%% md\n"
    }
   }
  },
  {
   "cell_type": "code",
   "execution_count": 37,
   "outputs": [
    {
     "data": {
      "text/plain": "0"
     },
     "execution_count": 37,
     "metadata": {},
     "output_type": "execute_result"
    }
   ],
   "source": [
    "tweet_data_archived_clean.name.loc[tweet_data_archived_clean.name == 'None'].sum()"
   ],
   "metadata": {
    "collapsed": false,
    "pycharm": {
     "name": "#%%\n"
    }
   }
  },
  {
   "cell_type": "markdown",
   "source": [
    "#### `tweet_data_archived`: HTML tags in `source` column\n",
    "\n",
    "##### Define\n",
    "\n",
    "Extract the name of the source platform from the HTML tags and replace the original values of the `source` column with them.\n",
    "\n",
    "##### Code"
   ],
   "metadata": {
    "collapsed": false,
    "pycharm": {
     "name": "#%% md\n"
    }
   }
  },
  {
   "cell_type": "code",
   "execution_count": 38,
   "outputs": [],
   "source": [
    "platform_names = (tweet_data_archived_clean.source.str.extract('>(.*?)<')\n",
    "                  .rename(columns={0: 'platform_name'}))\n",
    "tweet_data_archived_clean['source'] = platform_names"
   ],
   "metadata": {
    "collapsed": false,
    "pycharm": {
     "name": "#%%\n"
    }
   }
  },
  {
   "cell_type": "markdown",
   "source": [
    "##### Test"
   ],
   "metadata": {
    "collapsed": false,
    "pycharm": {
     "name": "#%% md\n"
    }
   }
  },
  {
   "cell_type": "code",
   "execution_count": 39,
   "outputs": [
    {
     "data": {
      "text/plain": "Twitter for iPhone     2042\nVine - Make a Scene      91\nTwitter Web Client       31\nTweetDeck                11\nName: source, dtype: int64"
     },
     "execution_count": 39,
     "metadata": {},
     "output_type": "execute_result"
    }
   ],
   "source": [
    "tweet_data_archived_clean.source.value_counts()"
   ],
   "metadata": {
    "collapsed": false,
    "pycharm": {
     "name": "#%%\n"
    }
   }
  },
  {
   "cell_type": "markdown",
   "source": [
    "#### `tweet_image_pred`: erroneous datatype for `tweet_id` column\n",
    "\n",
    "##### Define\n",
    "\n",
    "Change datatype of `tweet_id` column to string.\n",
    "\n",
    "##### Code"
   ],
   "metadata": {
    "collapsed": false,
    "pycharm": {
     "name": "#%% md\n"
    }
   }
  },
  {
   "cell_type": "code",
   "execution_count": 40,
   "outputs": [],
   "source": [
    "images['tweet_id'] = images['tweet_id'].astype(str)"
   ],
   "metadata": {
    "collapsed": false,
    "pycharm": {
     "name": "#%%\n"
    }
   }
  },
  {
   "cell_type": "markdown",
   "source": [
    "##### Test"
   ],
   "metadata": {
    "collapsed": false,
    "pycharm": {
     "name": "#%% md\n"
    }
   }
  },
  {
   "cell_type": "markdown",
   "source": [
    "#### In `tweet_image_pred` words combined using underscore in `p*` columns. Also the case in `tweet_data_archived` with the `dog_breed` column.\n",
    "\n",
    "##### Define\n",
    "\n",
    "Replace the underscore separating the words in each of the `p*` columns in `tweet_image_pred` as well as the `dog_breed` column in `tweet_data_archived`.\n",
    "\n",
    "##### Code"
   ],
   "metadata": {
    "collapsed": false,
    "pycharm": {
     "name": "#%% md\n"
    }
   }
  },
  {
   "cell_type": "code",
   "execution_count": 41,
   "outputs": [],
   "source": [
    "# Remove underscores p* columns of tweet_image_pred\n",
    "p_cols = [p_col for p_col in images.columns.tolist() if\n",
    "          'p' in p_col and '_' not in p_col]\n",
    "for p_col in p_cols:\n",
    "    images_clean[p_col] = images_clean[p_col].str.replace('_', ' ')\n",
    "\n",
    "# Remove underscores in dog_breed column of tweet_data_archived\n",
    "tweet_data_archived_clean['dog_breed'] = tweet_data_archived_clean['dog_breed'].str.replace('_', ' ')"
   ],
   "metadata": {
    "collapsed": false,
    "pycharm": {
     "name": "#%%\n"
    }
   }
  },
  {
   "cell_type": "markdown",
   "source": [
    "##### Test"
   ],
   "metadata": {
    "collapsed": false,
    "pycharm": {
     "name": "#%% md\n"
    }
   }
  },
  {
   "cell_type": "code",
   "execution_count": 42,
   "outputs": [
    {
     "data": {
      "text/plain": "                       p1                  p2                           p3\n0  Welsh springer spaniel              collie            Shetland sheepdog\n1                 redbone  miniature pinscher          Rhodesian ridgeback\n2         German shepherd            malinois                   bloodhound\n3     Rhodesian ridgeback             redbone           miniature pinscher\n4      miniature pinscher          Rottweiler                     Doberman\n5    Bernese mountain dog    English springer   Greater Swiss Mountain dog\n6              box turtle          mud turtle                     terrapin\n7                    chow     Tibetan mastiff                     fur coat\n8           shopping cart     shopping basket             golden retriever\n9        miniature poodle            komondor  soft-coated wheaten terrier",
      "text/html": "<div>\n<style scoped>\n    .dataframe tbody tr th:only-of-type {\n        vertical-align: middle;\n    }\n\n    .dataframe tbody tr th {\n        vertical-align: top;\n    }\n\n    .dataframe thead th {\n        text-align: right;\n    }\n</style>\n<table border=\"1\" class=\"dataframe\">\n  <thead>\n    <tr style=\"text-align: right;\">\n      <th></th>\n      <th>p1</th>\n      <th>p2</th>\n      <th>p3</th>\n    </tr>\n  </thead>\n  <tbody>\n    <tr>\n      <th>0</th>\n      <td>Welsh springer spaniel</td>\n      <td>collie</td>\n      <td>Shetland sheepdog</td>\n    </tr>\n    <tr>\n      <th>1</th>\n      <td>redbone</td>\n      <td>miniature pinscher</td>\n      <td>Rhodesian ridgeback</td>\n    </tr>\n    <tr>\n      <th>2</th>\n      <td>German shepherd</td>\n      <td>malinois</td>\n      <td>bloodhound</td>\n    </tr>\n    <tr>\n      <th>3</th>\n      <td>Rhodesian ridgeback</td>\n      <td>redbone</td>\n      <td>miniature pinscher</td>\n    </tr>\n    <tr>\n      <th>4</th>\n      <td>miniature pinscher</td>\n      <td>Rottweiler</td>\n      <td>Doberman</td>\n    </tr>\n    <tr>\n      <th>5</th>\n      <td>Bernese mountain dog</td>\n      <td>English springer</td>\n      <td>Greater Swiss Mountain dog</td>\n    </tr>\n    <tr>\n      <th>6</th>\n      <td>box turtle</td>\n      <td>mud turtle</td>\n      <td>terrapin</td>\n    </tr>\n    <tr>\n      <th>7</th>\n      <td>chow</td>\n      <td>Tibetan mastiff</td>\n      <td>fur coat</td>\n    </tr>\n    <tr>\n      <th>8</th>\n      <td>shopping cart</td>\n      <td>shopping basket</td>\n      <td>golden retriever</td>\n    </tr>\n    <tr>\n      <th>9</th>\n      <td>miniature poodle</td>\n      <td>komondor</td>\n      <td>soft-coated wheaten terrier</td>\n    </tr>\n  </tbody>\n</table>\n</div>"
     },
     "execution_count": 42,
     "metadata": {},
     "output_type": "execute_result"
    }
   ],
   "source": [
    "# Check tweet_image_pred\n",
    "images_clean[p_cols].head(10)"
   ],
   "metadata": {
    "collapsed": false,
    "pycharm": {
     "name": "#%%\n"
    }
   }
  },
  {
   "cell_type": "code",
   "execution_count": 43,
   "outputs": [
    {
     "data": {
      "text/plain": "0                         NaN\n1                   Chihuahua\n2                   Chihuahua\n3          Labrador retriever\n4                      basset\n5    Chesapeake Bay retriever\n6                 Appenzeller\n7                  Pomeranian\n8               Irish terrier\n9                    Pembroke\nName: dog_breed, dtype: object"
     },
     "execution_count": 43,
     "metadata": {},
     "output_type": "execute_result"
    }
   ],
   "source": [
    "# Check tweet_data_archived\n",
    "tweet_data_archived_clean['dog_breed'].head(10)"
   ],
   "metadata": {
    "collapsed": false,
    "pycharm": {
     "name": "#%%\n"
    }
   }
  },
  {
   "cell_type": "markdown",
   "source": [
    "## Final cleaned dataset\n",
    "\n",
    "After the cleaning step I'm left with a single master dataframe: `tweet_data_archived_clean`. The last thing that I'll do is store it in an appropriately named dataframe and export it to the current working directory."
   ],
   "metadata": {
    "collapsed": false,
    "pycharm": {
     "name": "#%% md\n"
    }
   }
  },
  {
   "cell_type": "code",
   "execution_count": 44,
   "outputs": [],
   "source": [
    "twitter_archive_master = tweet_data_archived_clean.copy()\n",
    "\n",
    "out_file = 'twitter-archive-master.csv'\n",
    "twitter_archive_master.to_csv(out_file, index=False)"
   ],
   "metadata": {
    "collapsed": false,
    "pycharm": {
     "name": "#%%\n"
    }
   }
  },
  {
   "cell_type": "markdown",
   "source": [
    "## Analysis\n",
    "\n",
    "Now that I've cleaned the data, I can begin deriving insights from the data about the _**WeRateDogs**_ account and the tweets that they've made. Since this analysis does include the creation of visualizations, I'll first load the necessary libraries."
   ],
   "metadata": {
    "collapsed": false,
    "pycharm": {
     "name": "#%% md\n"
    }
   }
  },
  {
   "cell_type": "markdown",
   "source": [
    "### Most common dog breeds\n",
    "\n"
   ],
   "metadata": {
    "collapsed": false,
    "pycharm": {
     "name": "#%% md\n"
    }
   }
  },
  {
   "cell_type": "code",
   "execution_count": 45,
   "outputs": [
    {
     "name": "stdout",
     "output_type": "stream",
     "text": [
      "<class 'pandas.core.frame.DataFrame'>\n",
      "RangeIndex: 2175 entries, 0 to 2174\n",
      "Data columns (total 15 columns):\n",
      " #   Column                 Non-Null Count  Dtype  \n",
      "---  ------                 --------------  -----  \n",
      " 0   tweet_id               2175 non-null   int64  \n",
      " 1   in_reply_to_status_id  78 non-null     float64\n",
      " 2   in_reply_to_user_id    78 non-null     float64\n",
      " 3   timestamp              2175 non-null   object \n",
      " 4   source                 2175 non-null   object \n",
      " 5   text                   2175 non-null   object \n",
      " 6   expanded_urls          2117 non-null   object \n",
      " 7   rating_numerator       2175 non-null   int64  \n",
      " 8   rating_denominator     2175 non-null   int64  \n",
      " 9   name                   1414 non-null   object \n",
      " 10  dog_type               344 non-null    object \n",
      " 11  retweet_count          2167 non-null   float64\n",
      " 12  favorite_count         2167 non-null   float64\n",
      " 13  create_date            2167 non-null   object \n",
      " 14  dog_breed              1686 non-null   object \n",
      "dtypes: float64(4), int64(3), object(8)\n",
      "memory usage: 255.0+ KB\n"
     ]
    }
   ],
   "source": [
    "twitter_archive_master = pd.read_csv('twitter-archive-master.csv')\n",
    "\n",
    "twitter_archive_master.info()"
   ],
   "metadata": {
    "collapsed": false,
    "pycharm": {
     "name": "#%%\n"
    }
   }
  },
  {
   "cell_type": "code",
   "execution_count": 46,
   "outputs": [
    {
     "data": {
      "text/plain": "Text(0.5, 0, 'Total')"
     },
     "execution_count": 46,
     "metadata": {},
     "output_type": "execute_result"
    },
    {
     "data": {
      "text/plain": "<Figure size 600x400 with 1 Axes>",
      "image/png": "[encoded data removed]"
     },
     "metadata": {
      "needs_background": "light"
     },
     "output_type": "display_data"
    }
   ],
   "source": [
    "# Plot counts of the 10 most common dog breeds\n",
    "top_breeds = (twitter_archive_master.dog_breed.value_counts()\n",
    "              .head(10)\n",
    "              .to_frame()\n",
    "              .reset_index()\n",
    "              .rename(columns={'index': 'dog_breed', 'dog_breed': 'total'}))\n",
    "top_breeds['dog_breed'] = top_breeds['dog_breed'].str.title()\n",
    "plt.figure(dpi=100)\n",
    "ax = sns.barplot(x='total', y='dog_breed', data=top_breeds)\n",
    "ax.set_title('Ten Most Common Dog Breeds in WeRateDogs Tweets')\n",
    "ax.set_ylabel('Dog Breed')\n",
    "ax.set_xlabel('Total')"
   ],
   "metadata": {
    "collapsed": false,
    "pycharm": {
     "name": "#%%\n"
    }
   }
  },
  {
   "cell_type": "markdown",
   "source": [],
   "metadata": {
    "collapsed": false,
    "pycharm": {
     "name": "#%% md\n"
    }
   }
  },
  {
   "cell_type": "markdown",
   "source": [
    "### Most common dog type\n",
    "\n",
    "Here I'll look at which of the dog labels or types (e.g., doggo, puppo, etc.) is the most common.\n",
    "This will give me some idea of the ages of the dogs shown in the tweets."
   ],
   "metadata": {
    "collapsed": false,
    "pycharm": {
     "name": "#%% md\n"
    }
   }
  },
  {
   "cell_type": "code",
   "execution_count": 47,
   "outputs": [
    {
     "data": {
      "text/plain": "Text(0.5, 0, 'Dog Type')"
     },
     "execution_count": 47,
     "metadata": {},
     "output_type": "execute_result"
    },
    {
     "data": {
      "text/plain": "<Figure size 600x400 with 1 Axes>",
      "image/png": "[encoded data removed]"
     },
     "metadata": {
      "needs_background": "light"
     },
     "output_type": "display_data"
    }
   ],
   "source": [
    "# Extract separate dog types\n",
    "dog_type_mask = twitter_archive_master['dog_type'].notnull()\n",
    "dog_type_raw = twitter_archive_master.dog_type.loc[dog_type_mask].str.split(',').tolist()\n",
    "dog_type = list(map(lambda x: x.strip(), itertools.chain.from_iterable(dog_type_raw)))\n",
    "dog_type = np.array(dog_type)\n",
    "\n",
    "# Plot counts of each dog type\n",
    "plot_category_order = ['pupper', 'doggo', 'puppo', 'floofer']\n",
    "plt.figure(dpi=100)\n",
    "ax = sns.countplot(x=dog_type, order=plot_category_order)\n",
    "ax.set_title('Counts of each Dog Type')\n",
    "ax.set_ylabel('Count')\n",
    "ax.set_xlabel('Dog Type')"
   ],
   "metadata": {
    "collapsed": false,
    "pycharm": {
     "name": "#%%\n"
    }
   }
  },
  {
   "cell_type": "markdown",
   "source": [
    "From the bar chart it would appear that the majority of the dogs displayed in the tweets are puppers"
   ],
   "metadata": {
    "collapsed": false,
    "pycharm": {
     "name": "#%% md\n"
    }
   }
  },
  {
   "cell_type": "code",
   "execution_count": 48,
   "outputs": [
    {
     "data": {
      "text/plain": "<Figure size 792x360 with 1 Axes>",
      "image/png": "[encoded data removed]"
     },
     "metadata": {
      "needs_background": "light"
     },
     "output_type": "display_data"
    }
   ],
   "source": [
    "# most used Twitter platforms\n",
    "twitter_archive_master['source'].value_counts().plot(kind='bar', figsize=(11,5), title='Most used Twitter source').set_ylabel(\"Number of Tweets\",)\n",
    "plt.savefig('twitter_source')"
   ],
   "metadata": {
    "collapsed": false,
    "pycharm": {
     "name": "#%%\n"
    }
   }
  },
  {
   "cell_type": "markdown",
   "source": [
    "most people tweet on iphone, cant conclude if this is the case all over the world"
   ],
   "metadata": {
    "collapsed": false,
    "pycharm": {
     "name": "#%% md\n"
    }
   }
  },
  {
   "cell_type": "markdown",
   "source": [],
   "metadata": {
    "collapsed": false,
    "pycharm": {
     "name": "#%% md\n"
    }
   }
  },
  {
   "cell_type": "markdown",
   "source": [
    "### number of tweets made over time"
   ],
   "metadata": {
    "collapsed": false,
    "pycharm": {
     "name": "#%% md\n"
    }
   }
  },
  {
   "cell_type": "code",
   "execution_count": 49,
   "outputs": [
    {
     "ename": "AttributeError",
     "evalue": "Can only use .dt accessor with datetimelike values",
     "output_type": "error",
     "traceback": [
      "\u001B[1;31m---------------------------------------------------------------------------\u001B[0m",
      "\u001B[1;31mAttributeError\u001B[0m                            Traceback (most recent call last)",
      "\u001B[1;32m~\\AppData\\Local\\Temp/ipykernel_22440/2876256270.py\u001B[0m in \u001B[0;36m<module>\u001B[1;34m\u001B[0m\n\u001B[1;32m----> 1\u001B[1;33m \u001B[0mdata\u001B[0m \u001B[1;33m=\u001B[0m \u001B[0mtwitter_archive_master\u001B[0m\u001B[1;33m.\u001B[0m\u001B[0mtweet_id\u001B[0m\u001B[1;33m.\u001B[0m\u001B[0mgroupby\u001B[0m\u001B[1;33m(\u001B[0m\u001B[1;33m[\u001B[0m\u001B[0mtwitter_archive_master\u001B[0m\u001B[1;33m[\u001B[0m\u001B[1;34m\"timestamp\"\u001B[0m\u001B[1;33m]\u001B[0m\u001B[1;33m.\u001B[0m\u001B[0mdt\u001B[0m\u001B[1;33m.\u001B[0m\u001B[0myear\u001B[0m\u001B[1;33m,\u001B[0m \u001B[0mtwitter_archive_master\u001B[0m\u001B[1;33m[\u001B[0m\u001B[1;34m\"timestamp\"\u001B[0m\u001B[1;33m]\u001B[0m\u001B[1;33m.\u001B[0m\u001B[0mdt\u001B[0m\u001B[1;33m.\u001B[0m\u001B[0mmonth\u001B[0m\u001B[1;33m]\u001B[0m\u001B[1;33m)\u001B[0m\u001B[1;33m.\u001B[0m\u001B[0mcount\u001B[0m\u001B[1;33m(\u001B[0m\u001B[1;33m)\u001B[0m\u001B[1;33m\u001B[0m\u001B[1;33m\u001B[0m\u001B[0m\n\u001B[0m\u001B[0;32m      2\u001B[0m \u001B[0max\u001B[0m \u001B[1;33m=\u001B[0m \u001B[0mdata\u001B[0m\u001B[1;33m.\u001B[0m\u001B[0mplot\u001B[0m\u001B[1;33m(\u001B[0m\u001B[1;34m'line'\u001B[0m\u001B[1;33m,\u001B[0m \u001B[0mtitle\u001B[0m\u001B[1;33m=\u001B[0m\u001B[1;34m'WeRateDogs tweeting trend over time'\u001B[0m\u001B[1;33m)\u001B[0m\u001B[1;33m\u001B[0m\u001B[1;33m\u001B[0m\u001B[0m\n\u001B[0;32m      3\u001B[0m \u001B[0max\u001B[0m\u001B[1;33m.\u001B[0m\u001B[0mset_xlabel\u001B[0m\u001B[1;33m(\u001B[0m\u001B[1;34m\"(Year, Month)\"\u001B[0m\u001B[1;33m)\u001B[0m\u001B[1;33m\u001B[0m\u001B[1;33m\u001B[0m\u001B[0m\n\u001B[0;32m      4\u001B[0m \u001B[0max\u001B[0m\u001B[1;33m.\u001B[0m\u001B[0mset_ylabel\u001B[0m\u001B[1;33m(\u001B[0m\u001B[1;34m\"Number of Tweets\"\u001B[0m\u001B[1;33m)\u001B[0m\u001B[1;33m\u001B[0m\u001B[1;33m\u001B[0m\u001B[0m\n\u001B[0;32m      5\u001B[0m \u001B[0max\u001B[0m\u001B[1;33m.\u001B[0m\u001B[0mset_ylim\u001B[0m\u001B[1;33m(\u001B[0m\u001B[1;36m0\u001B[0m\u001B[1;33m,\u001B[0m \u001B[1;33m)\u001B[0m\u001B[1;33m\u001B[0m\u001B[1;33m\u001B[0m\u001B[0m\n",
      "\u001B[1;32m~\\anaconda3\\lib\\site-packages\\pandas\\core\\generic.py\u001B[0m in \u001B[0;36m__getattr__\u001B[1;34m(self, name)\u001B[0m\n\u001B[0;32m   5485\u001B[0m         ):\n\u001B[0;32m   5486\u001B[0m             \u001B[1;32mreturn\u001B[0m \u001B[0mself\u001B[0m\u001B[1;33m[\u001B[0m\u001B[0mname\u001B[0m\u001B[1;33m]\u001B[0m\u001B[1;33m\u001B[0m\u001B[1;33m\u001B[0m\u001B[0m\n\u001B[1;32m-> 5487\u001B[1;33m         \u001B[1;32mreturn\u001B[0m \u001B[0mobject\u001B[0m\u001B[1;33m.\u001B[0m\u001B[0m__getattribute__\u001B[0m\u001B[1;33m(\u001B[0m\u001B[0mself\u001B[0m\u001B[1;33m,\u001B[0m \u001B[0mname\u001B[0m\u001B[1;33m)\u001B[0m\u001B[1;33m\u001B[0m\u001B[1;33m\u001B[0m\u001B[0m\n\u001B[0m\u001B[0;32m   5488\u001B[0m \u001B[1;33m\u001B[0m\u001B[0m\n\u001B[0;32m   5489\u001B[0m     \u001B[1;32mdef\u001B[0m \u001B[0m__setattr__\u001B[0m\u001B[1;33m(\u001B[0m\u001B[0mself\u001B[0m\u001B[1;33m,\u001B[0m \u001B[0mname\u001B[0m\u001B[1;33m:\u001B[0m \u001B[0mstr\u001B[0m\u001B[1;33m,\u001B[0m \u001B[0mvalue\u001B[0m\u001B[1;33m)\u001B[0m \u001B[1;33m->\u001B[0m \u001B[1;32mNone\u001B[0m\u001B[1;33m:\u001B[0m\u001B[1;33m\u001B[0m\u001B[1;33m\u001B[0m\u001B[0m\n",
      "\u001B[1;32m~\\anaconda3\\lib\\site-packages\\pandas\\core\\accessor.py\u001B[0m in \u001B[0;36m__get__\u001B[1;34m(self, obj, cls)\u001B[0m\n\u001B[0;32m    179\u001B[0m             \u001B[1;31m# we're accessing the attribute of the class, i.e., Dataset.geo\u001B[0m\u001B[1;33m\u001B[0m\u001B[1;33m\u001B[0m\u001B[0m\n\u001B[0;32m    180\u001B[0m             \u001B[1;32mreturn\u001B[0m \u001B[0mself\u001B[0m\u001B[1;33m.\u001B[0m\u001B[0m_accessor\u001B[0m\u001B[1;33m\u001B[0m\u001B[1;33m\u001B[0m\u001B[0m\n\u001B[1;32m--> 181\u001B[1;33m         \u001B[0maccessor_obj\u001B[0m \u001B[1;33m=\u001B[0m \u001B[0mself\u001B[0m\u001B[1;33m.\u001B[0m\u001B[0m_accessor\u001B[0m\u001B[1;33m(\u001B[0m\u001B[0mobj\u001B[0m\u001B[1;33m)\u001B[0m\u001B[1;33m\u001B[0m\u001B[1;33m\u001B[0m\u001B[0m\n\u001B[0m\u001B[0;32m    182\u001B[0m         \u001B[1;31m# Replace the property with the accessor object. Inspired by:\u001B[0m\u001B[1;33m\u001B[0m\u001B[1;33m\u001B[0m\u001B[0m\n\u001B[0;32m    183\u001B[0m         \u001B[1;31m# https://www.pydanny.com/cached-property.html\u001B[0m\u001B[1;33m\u001B[0m\u001B[1;33m\u001B[0m\u001B[0m\n",
      "\u001B[1;32m~\\anaconda3\\lib\\site-packages\\pandas\\core\\indexes\\accessors.py\u001B[0m in \u001B[0;36m__new__\u001B[1;34m(cls, data)\u001B[0m\n\u001B[0;32m    504\u001B[0m             \u001B[1;32mreturn\u001B[0m \u001B[0mPeriodProperties\u001B[0m\u001B[1;33m(\u001B[0m\u001B[0mdata\u001B[0m\u001B[1;33m,\u001B[0m \u001B[0morig\u001B[0m\u001B[1;33m)\u001B[0m\u001B[1;33m\u001B[0m\u001B[1;33m\u001B[0m\u001B[0m\n\u001B[0;32m    505\u001B[0m \u001B[1;33m\u001B[0m\u001B[0m\n\u001B[1;32m--> 506\u001B[1;33m         \u001B[1;32mraise\u001B[0m \u001B[0mAttributeError\u001B[0m\u001B[1;33m(\u001B[0m\u001B[1;34m\"Can only use .dt accessor with datetimelike values\"\u001B[0m\u001B[1;33m)\u001B[0m\u001B[1;33m\u001B[0m\u001B[1;33m\u001B[0m\u001B[0m\n\u001B[0m",
      "\u001B[1;31mAttributeError\u001B[0m: Can only use .dt accessor with datetimelike values"
     ]
    }
   ],
   "source": [
    "data = twitter_archive_master.tweet_id.groupby([twitter_archive_master[\"timestamp\"].dt.year, twitter_archive_master[\"timestamp\"].dt.month]).count()\n",
    "ax = data.plot('line', title='WeRateDogs tweeting trend over time')\n",
    "ax.set_xlabel(\"(Year, Month)\")\n",
    "ax.set_ylabel(\"Number of Tweets\")\n",
    "ax.set_ylim(0, )\n",
    "plt.savefig('tweet_trend')"
   ],
   "metadata": {
    "collapsed": false,
    "pycharm": {
     "name": "#%%\n"
    }
   }
  },
  {
   "cell_type": "markdown",
   "source": [
    "### Number of replies made by WeRateDogs account\n"
   ],
   "metadata": {
    "collapsed": false,
    "pycharm": {
     "name": "#%% md\n"
    }
   }
  },
  {
   "cell_type": "code",
   "execution_count": null,
   "outputs": [],
   "source": [
    "# Get total number of replies and total number of tweets in dataset\n",
    "reply_mask = twitter_archive_master.in_reply_to_status_id.notnull()\n",
    "num_replies = twitter_archive_master.in_reply_to_status_id.loc[reply_mask].unique().size\n",
    "num_tweets = twitter_archive_master.shape[0]\n",
    "\n",
    "# Print the totals\n",
    "print('Total number of replies: {}'.format(num_replies))\n",
    "print('Total number of tweets in cleaned dataset: {}'.format(num_tweets))"
   ],
   "metadata": {
    "collapsed": false,
    "pycharm": {
     "name": "#%%\n"
    }
   }
  },
  {
   "cell_type": "markdown",
   "source": [
    "### retweets and favorites over time"
   ],
   "metadata": {
    "collapsed": false,
    "pycharm": {
     "name": "#%% md\n"
    }
   }
  },
  {
   "cell_type": "code",
   "execution_count": null,
   "outputs": [],
   "source": [
    "# retweets and favorites over time\n",
    "plt.subplots(1, sharex=True)\n",
    "twitter_archive_master.retweet_count.groupby([twitter_archive_master[\"timestamp\"].dt.year, twitter_archive_master[\"timestamp\"].dt.month]).mean().plot('line')\n",
    "twitter_archive_master.favorite_count.groupby([twitter_archive_master[\"timestamp\"].dt.year, twitter_archive_master[\"timestamp\"].dt.month]).mean().plot('line').set_ylim(0, )\n",
    "plt.title('Retweeting and Favorite trend over time')\n",
    "plt.ylabel('Count')\n",
    "plt.xlabel('(Year, Month)')\n",
    "plt.legend(('Retweets', 'Favorites'))\n",
    "plt.savefig('ret_fav')"
   ],
   "metadata": {
    "collapsed": false,
    "pycharm": {
     "name": "#%%\n"
    }
   }
  },
  {
   "cell_type": "code",
   "execution_count": null,
   "outputs": [],
   "source": [
    "twitter_archive_master.info()"
   ],
   "metadata": {
    "collapsed": false,
    "pycharm": {
     "name": "#%%\n"
    }
   }
  },
  {
   "cell_type": "markdown",
   "source": [
    "### breeds that have the highest favorite count"
   ],
   "metadata": {
    "collapsed": false,
    "pycharm": {
     "name": "#%% md\n"
    }
   }
  },
  {
   "cell_type": "code",
   "execution_count": null,
   "outputs": [],
   "source": [
    "fav_counts_breed = twitter_archive_master[twitter_archive_master.dog_breed != 'none']\n",
    "fav_counts_breed = fav_counts_breed.groupby(['dog_breed'])\n",
    "fav_counts_breed = fav_counts_breed['favorite_count'].sum()\n",
    "fav_counts_breed = fav_counts_breed.sort_values(ascending = False)\n",
    "top_favorite_breeds = fav_counts_breed.head(20)\n",
    "top_favorite_breeds"
   ],
   "metadata": {
    "collapsed": false,
    "pycharm": {
     "name": "#%%\n"
    }
   }
  },
  {
   "cell_type": "code",
   "execution_count": null,
   "outputs": [],
   "source": [
    "plt.barh(top_favorite_breeds.index, top_favorite_breeds)\n",
    "plt.xlabel('Aggregate Favorite Count', fontsize = 14)\n",
    "plt.ylabel('Dog Breed', fontsize = 12)\n",
    "plt.title('Dog Breeds by Favorite Count', fontsize = 16)\n",
    "plt.gca().invert_yaxis()\n",
    "plt.show();"
   ],
   "metadata": {
    "collapsed": false,
    "pycharm": {
     "name": "#%%\n"
    }
   }
  },
  {
   "cell_type": "markdown",
   "source": [
    "### retweets over time"
   ],
   "metadata": {
    "collapsed": false,
    "pycharm": {
     "name": "#%% md\n"
    }
   }
  }
 ],
 "metadata": {
  "kernelspec": {
   "display_name": "Python 3",
   "language": "python",
   "name": "python3"
  },
  "language_info": {
   "codemirror_mode": {
    "name": "ipython",
    "version": 3
   },
   "file_extension": ".py",
   "mimetype": "text/x-python",
   "name": "python",
   "nbconvert_exporter": "python",
   "pygments_lexer": "ipython3",
   "version": "3.7.1"
  }
 },
 "nbformat": 4,
 "nbformat_minor": 2
}